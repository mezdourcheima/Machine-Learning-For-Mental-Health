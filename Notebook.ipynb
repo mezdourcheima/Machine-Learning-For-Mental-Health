{
 "cells": [
  {
   "attachments": {},
   "cell_type": "markdown",
   "metadata": {},
   "source": [
    "# **Machine learning for mental Health**\n",
    "\n",
    "##### The project involves machine learning models that can assist in predicting mental health conditions, analyzing mental health-related data and creating tools that help in diagnosing or monitoring mental health conditions.\n"
   ]
  },
  {
   "attachments": {},
   "cell_type": "markdown",
   "metadata": {},
   "source": [
    "##### Our main objective is to predict whether a patient should be treated of his/her mental illness or not according to the values obtained in the dataset? \n",
    "\n",
    "##### Output Label is = seek_help \n",
    "##### Features = Age, Gender, self_employed, family_history, treatment, no_employees remote_work,tech_company, benefits, care_options, wellness_program seek_help, anonymity, leave, mental_health_consequence, phys_health_consequence coworkers, supervisor, mental_health_interview, phys_health_interview mental_vs_physical, obs_consequence"
   ]
  },
  {
   "attachments": {},
   "cell_type": "markdown",
   "metadata": {},
   "source": [
    "### **1. Imports**"
   ]
  },
  {
   "cell_type": "code",
   "execution_count": 217,
   "metadata": {},
   "outputs": [],
   "source": [
    "import pandas as pd\n",
    "import numpy as np"
   ]
  },
  {
   "attachments": {},
   "cell_type": "markdown",
   "metadata": {},
   "source": [
    "### **2. Data Preprocessing**"
   ]
  },
  {
   "cell_type": "code",
   "execution_count": 218,
   "metadata": {},
   "outputs": [],
   "source": [
    "path = 'survey.csv'\n",
    "data = pd.read_csv(path)"
   ]
  },
  {
   "cell_type": "code",
   "execution_count": 219,
   "metadata": {},
   "outputs": [
    {
     "data": {
      "text/html": [
       "<div>\n",
       "<style scoped>\n",
       "    .dataframe tbody tr th:only-of-type {\n",
       "        vertical-align: middle;\n",
       "    }\n",
       "\n",
       "    .dataframe tbody tr th {\n",
       "        vertical-align: top;\n",
       "    }\n",
       "\n",
       "    .dataframe thead th {\n",
       "        text-align: right;\n",
       "    }\n",
       "</style>\n",
       "<table border=\"1\" class=\"dataframe\">\n",
       "  <thead>\n",
       "    <tr style=\"text-align: right;\">\n",
       "      <th></th>\n",
       "      <th>Timestamp</th>\n",
       "      <th>Age</th>\n",
       "      <th>Gender</th>\n",
       "      <th>Country</th>\n",
       "      <th>state</th>\n",
       "      <th>self_employed</th>\n",
       "      <th>family_history</th>\n",
       "      <th>treatment</th>\n",
       "      <th>work_interfere</th>\n",
       "      <th>no_employees</th>\n",
       "      <th>...</th>\n",
       "      <th>leave</th>\n",
       "      <th>mental_health_consequence</th>\n",
       "      <th>phys_health_consequence</th>\n",
       "      <th>coworkers</th>\n",
       "      <th>supervisor</th>\n",
       "      <th>mental_health_interview</th>\n",
       "      <th>phys_health_interview</th>\n",
       "      <th>mental_vs_physical</th>\n",
       "      <th>obs_consequence</th>\n",
       "      <th>comments</th>\n",
       "    </tr>\n",
       "  </thead>\n",
       "  <tbody>\n",
       "    <tr>\n",
       "      <th>0</th>\n",
       "      <td>2014-08-27 11:29:31</td>\n",
       "      <td>37</td>\n",
       "      <td>Female</td>\n",
       "      <td>United States</td>\n",
       "      <td>IL</td>\n",
       "      <td>NaN</td>\n",
       "      <td>No</td>\n",
       "      <td>Yes</td>\n",
       "      <td>Often</td>\n",
       "      <td>6-25</td>\n",
       "      <td>...</td>\n",
       "      <td>Somewhat easy</td>\n",
       "      <td>No</td>\n",
       "      <td>No</td>\n",
       "      <td>Some of them</td>\n",
       "      <td>Yes</td>\n",
       "      <td>No</td>\n",
       "      <td>Maybe</td>\n",
       "      <td>Yes</td>\n",
       "      <td>No</td>\n",
       "      <td>NaN</td>\n",
       "    </tr>\n",
       "    <tr>\n",
       "      <th>1</th>\n",
       "      <td>2014-08-27 11:29:37</td>\n",
       "      <td>44</td>\n",
       "      <td>M</td>\n",
       "      <td>United States</td>\n",
       "      <td>IN</td>\n",
       "      <td>NaN</td>\n",
       "      <td>No</td>\n",
       "      <td>No</td>\n",
       "      <td>Rarely</td>\n",
       "      <td>More than 1000</td>\n",
       "      <td>...</td>\n",
       "      <td>Don't know</td>\n",
       "      <td>Maybe</td>\n",
       "      <td>No</td>\n",
       "      <td>No</td>\n",
       "      <td>No</td>\n",
       "      <td>No</td>\n",
       "      <td>No</td>\n",
       "      <td>Don't know</td>\n",
       "      <td>No</td>\n",
       "      <td>NaN</td>\n",
       "    </tr>\n",
       "    <tr>\n",
       "      <th>2</th>\n",
       "      <td>2014-08-27 11:29:44</td>\n",
       "      <td>32</td>\n",
       "      <td>Male</td>\n",
       "      <td>Canada</td>\n",
       "      <td>NaN</td>\n",
       "      <td>NaN</td>\n",
       "      <td>No</td>\n",
       "      <td>No</td>\n",
       "      <td>Rarely</td>\n",
       "      <td>6-25</td>\n",
       "      <td>...</td>\n",
       "      <td>Somewhat difficult</td>\n",
       "      <td>No</td>\n",
       "      <td>No</td>\n",
       "      <td>Yes</td>\n",
       "      <td>Yes</td>\n",
       "      <td>Yes</td>\n",
       "      <td>Yes</td>\n",
       "      <td>No</td>\n",
       "      <td>No</td>\n",
       "      <td>NaN</td>\n",
       "    </tr>\n",
       "    <tr>\n",
       "      <th>3</th>\n",
       "      <td>2014-08-27 11:29:46</td>\n",
       "      <td>31</td>\n",
       "      <td>Male</td>\n",
       "      <td>United Kingdom</td>\n",
       "      <td>NaN</td>\n",
       "      <td>NaN</td>\n",
       "      <td>Yes</td>\n",
       "      <td>Yes</td>\n",
       "      <td>Often</td>\n",
       "      <td>26-100</td>\n",
       "      <td>...</td>\n",
       "      <td>Somewhat difficult</td>\n",
       "      <td>Yes</td>\n",
       "      <td>Yes</td>\n",
       "      <td>Some of them</td>\n",
       "      <td>No</td>\n",
       "      <td>Maybe</td>\n",
       "      <td>Maybe</td>\n",
       "      <td>No</td>\n",
       "      <td>Yes</td>\n",
       "      <td>NaN</td>\n",
       "    </tr>\n",
       "    <tr>\n",
       "      <th>4</th>\n",
       "      <td>2014-08-27 11:30:22</td>\n",
       "      <td>31</td>\n",
       "      <td>Male</td>\n",
       "      <td>United States</td>\n",
       "      <td>TX</td>\n",
       "      <td>NaN</td>\n",
       "      <td>No</td>\n",
       "      <td>No</td>\n",
       "      <td>Never</td>\n",
       "      <td>100-500</td>\n",
       "      <td>...</td>\n",
       "      <td>Don't know</td>\n",
       "      <td>No</td>\n",
       "      <td>No</td>\n",
       "      <td>Some of them</td>\n",
       "      <td>Yes</td>\n",
       "      <td>Yes</td>\n",
       "      <td>Yes</td>\n",
       "      <td>Don't know</td>\n",
       "      <td>No</td>\n",
       "      <td>NaN</td>\n",
       "    </tr>\n",
       "  </tbody>\n",
       "</table>\n",
       "<p>5 rows × 27 columns</p>\n",
       "</div>"
      ],
      "text/plain": [
       "             Timestamp  Age  Gender         Country state self_employed  \\\n",
       "0  2014-08-27 11:29:31   37  Female   United States    IL           NaN   \n",
       "1  2014-08-27 11:29:37   44       M   United States    IN           NaN   \n",
       "2  2014-08-27 11:29:44   32    Male          Canada   NaN           NaN   \n",
       "3  2014-08-27 11:29:46   31    Male  United Kingdom   NaN           NaN   \n",
       "4  2014-08-27 11:30:22   31    Male   United States    TX           NaN   \n",
       "\n",
       "  family_history treatment work_interfere    no_employees  ...  \\\n",
       "0             No       Yes          Often            6-25  ...   \n",
       "1             No        No         Rarely  More than 1000  ...   \n",
       "2             No        No         Rarely            6-25  ...   \n",
       "3            Yes       Yes          Often          26-100  ...   \n",
       "4             No        No          Never         100-500  ...   \n",
       "\n",
       "                leave mental_health_consequence phys_health_consequence  \\\n",
       "0       Somewhat easy                        No                      No   \n",
       "1          Don't know                     Maybe                      No   \n",
       "2  Somewhat difficult                        No                      No   \n",
       "3  Somewhat difficult                       Yes                     Yes   \n",
       "4          Don't know                        No                      No   \n",
       "\n",
       "      coworkers supervisor mental_health_interview phys_health_interview  \\\n",
       "0  Some of them        Yes                      No                 Maybe   \n",
       "1            No         No                      No                    No   \n",
       "2           Yes        Yes                     Yes                   Yes   \n",
       "3  Some of them         No                   Maybe                 Maybe   \n",
       "4  Some of them        Yes                     Yes                   Yes   \n",
       "\n",
       "  mental_vs_physical obs_consequence comments  \n",
       "0                Yes              No      NaN  \n",
       "1         Don't know              No      NaN  \n",
       "2                 No              No      NaN  \n",
       "3                 No             Yes      NaN  \n",
       "4         Don't know              No      NaN  \n",
       "\n",
       "[5 rows x 27 columns]"
      ]
     },
     "execution_count": 219,
     "metadata": {},
     "output_type": "execute_result"
    }
   ],
   "source": [
    "data.head()"
   ]
  },
  {
   "cell_type": "code",
   "execution_count": 220,
   "metadata": {},
   "outputs": [
    {
     "data": {
      "text/html": [
       "<div>\n",
       "<style scoped>\n",
       "    .dataframe tbody tr th:only-of-type {\n",
       "        vertical-align: middle;\n",
       "    }\n",
       "\n",
       "    .dataframe tbody tr th {\n",
       "        vertical-align: top;\n",
       "    }\n",
       "\n",
       "    .dataframe thead th {\n",
       "        text-align: right;\n",
       "    }\n",
       "</style>\n",
       "<table border=\"1\" class=\"dataframe\">\n",
       "  <thead>\n",
       "    <tr style=\"text-align: right;\">\n",
       "      <th></th>\n",
       "      <th>Age</th>\n",
       "    </tr>\n",
       "  </thead>\n",
       "  <tbody>\n",
       "    <tr>\n",
       "      <th>count</th>\n",
       "      <td>1.259000e+03</td>\n",
       "    </tr>\n",
       "    <tr>\n",
       "      <th>mean</th>\n",
       "      <td>7.942815e+07</td>\n",
       "    </tr>\n",
       "    <tr>\n",
       "      <th>std</th>\n",
       "      <td>2.818299e+09</td>\n",
       "    </tr>\n",
       "    <tr>\n",
       "      <th>min</th>\n",
       "      <td>-1.726000e+03</td>\n",
       "    </tr>\n",
       "    <tr>\n",
       "      <th>25%</th>\n",
       "      <td>2.700000e+01</td>\n",
       "    </tr>\n",
       "    <tr>\n",
       "      <th>50%</th>\n",
       "      <td>3.100000e+01</td>\n",
       "    </tr>\n",
       "    <tr>\n",
       "      <th>75%</th>\n",
       "      <td>3.600000e+01</td>\n",
       "    </tr>\n",
       "    <tr>\n",
       "      <th>max</th>\n",
       "      <td>1.000000e+11</td>\n",
       "    </tr>\n",
       "  </tbody>\n",
       "</table>\n",
       "</div>"
      ],
      "text/plain": [
       "                Age\n",
       "count  1.259000e+03\n",
       "mean   7.942815e+07\n",
       "std    2.818299e+09\n",
       "min   -1.726000e+03\n",
       "25%    2.700000e+01\n",
       "50%    3.100000e+01\n",
       "75%    3.600000e+01\n",
       "max    1.000000e+11"
      ]
     },
     "execution_count": 220,
     "metadata": {},
     "output_type": "execute_result"
    }
   ],
   "source": [
    "data.describe()"
   ]
  },
  {
   "cell_type": "code",
   "execution_count": 221,
   "metadata": {},
   "outputs": [
    {
     "name": "stdout",
     "output_type": "stream",
     "text": [
      "<class 'pandas.core.frame.DataFrame'>\n",
      "RangeIndex: 1259 entries, 0 to 1258\n",
      "Data columns (total 27 columns):\n",
      " #   Column                     Non-Null Count  Dtype \n",
      "---  ------                     --------------  ----- \n",
      " 0   Timestamp                  1259 non-null   object\n",
      " 1   Age                        1259 non-null   int64 \n",
      " 2   Gender                     1259 non-null   object\n",
      " 3   Country                    1259 non-null   object\n",
      " 4   state                      744 non-null    object\n",
      " 5   self_employed              1241 non-null   object\n",
      " 6   family_history             1259 non-null   object\n",
      " 7   treatment                  1259 non-null   object\n",
      " 8   work_interfere             995 non-null    object\n",
      " 9   no_employees               1259 non-null   object\n",
      " 10  remote_work                1259 non-null   object\n",
      " 11  tech_company               1259 non-null   object\n",
      " 12  benefits                   1259 non-null   object\n",
      " 13  care_options               1259 non-null   object\n",
      " 14  wellness_program           1259 non-null   object\n",
      " 15  seek_help                  1259 non-null   object\n",
      " 16  anonymity                  1259 non-null   object\n",
      " 17  leave                      1259 non-null   object\n",
      " 18  mental_health_consequence  1259 non-null   object\n",
      " 19  phys_health_consequence    1259 non-null   object\n",
      " 20  coworkers                  1259 non-null   object\n",
      " 21  supervisor                 1259 non-null   object\n",
      " 22  mental_health_interview    1259 non-null   object\n",
      " 23  phys_health_interview      1259 non-null   object\n",
      " 24  mental_vs_physical         1259 non-null   object\n",
      " 25  obs_consequence            1259 non-null   object\n",
      " 26  comments                   164 non-null    object\n",
      "dtypes: int64(1), object(26)\n",
      "memory usage: 265.7+ KB\n"
     ]
    }
   ],
   "source": [
    "data.info()"
   ]
  },
  {
   "cell_type": "code",
   "execution_count": 222,
   "metadata": {},
   "outputs": [
    {
     "data": {
      "text/plain": [
       "Timestamp                       0\n",
       "Age                             0\n",
       "Gender                          0\n",
       "Country                         0\n",
       "state                         515\n",
       "self_employed                  18\n",
       "family_history                  0\n",
       "treatment                       0\n",
       "work_interfere                264\n",
       "no_employees                    0\n",
       "remote_work                     0\n",
       "tech_company                    0\n",
       "benefits                        0\n",
       "care_options                    0\n",
       "wellness_program                0\n",
       "seek_help                       0\n",
       "anonymity                       0\n",
       "leave                           0\n",
       "mental_health_consequence       0\n",
       "phys_health_consequence         0\n",
       "coworkers                       0\n",
       "supervisor                      0\n",
       "mental_health_interview         0\n",
       "phys_health_interview           0\n",
       "mental_vs_physical              0\n",
       "obs_consequence                 0\n",
       "comments                     1095\n",
       "dtype: int64"
      ]
     },
     "execution_count": 222,
     "metadata": {},
     "output_type": "execute_result"
    }
   ],
   "source": [
    "data.isna().sum()"
   ]
  },
  {
   "cell_type": "code",
   "execution_count": 223,
   "metadata": {},
   "outputs": [],
   "source": [
    "data.drop(['comments', 'state', 'Timestamp'],  axis=1, inplace=True)"
   ]
  },
  {
   "cell_type": "code",
   "execution_count": 224,
   "metadata": {},
   "outputs": [
    {
     "data": {
      "text/plain": [
       "Age                            0\n",
       "Gender                         0\n",
       "Country                        0\n",
       "self_employed                 18\n",
       "family_history                 0\n",
       "treatment                      0\n",
       "work_interfere               264\n",
       "no_employees                   0\n",
       "remote_work                    0\n",
       "tech_company                   0\n",
       "benefits                       0\n",
       "care_options                   0\n",
       "wellness_program               0\n",
       "seek_help                      0\n",
       "anonymity                      0\n",
       "leave                          0\n",
       "mental_health_consequence      0\n",
       "phys_health_consequence        0\n",
       "coworkers                      0\n",
       "supervisor                     0\n",
       "mental_health_interview        0\n",
       "phys_health_interview          0\n",
       "mental_vs_physical             0\n",
       "obs_consequence                0\n",
       "dtype: int64"
      ]
     },
     "execution_count": 224,
     "metadata": {},
     "output_type": "execute_result"
    }
   ],
   "source": [
    "data.isna().sum()"
   ]
  },
  {
   "cell_type": "code",
   "execution_count": 225,
   "metadata": {},
   "outputs": [
    {
     "name": "stdout",
     "output_type": "stream",
     "text": [
      "Age                           0.00\n",
      "Gender                        0.00\n",
      "Country                       0.00\n",
      "self_employed                 1.43\n",
      "family_history                0.00\n",
      "treatment                     0.00\n",
      "work_interfere               20.97\n",
      "no_employees                  0.00\n",
      "remote_work                   0.00\n",
      "tech_company                  0.00\n",
      "benefits                      0.00\n",
      "care_options                  0.00\n",
      "wellness_program              0.00\n",
      "seek_help                     0.00\n",
      "anonymity                     0.00\n",
      "leave                         0.00\n",
      "mental_health_consequence     0.00\n",
      "phys_health_consequence       0.00\n",
      "coworkers                     0.00\n",
      "supervisor                    0.00\n",
      "mental_health_interview       0.00\n",
      "phys_health_interview         0.00\n",
      "mental_vs_physical            0.00\n",
      "obs_consequence               0.00\n",
      "dtype: float64\n"
     ]
    }
   ],
   "source": [
    "# Assuming your DataFrame is called 'Data'\n",
    "missing_percentages = (data.isna().mean() * 100).round(2)\n",
    "\n",
    "print(missing_percentages)"
   ]
  },
  {
   "attachments": {},
   "cell_type": "markdown",
   "metadata": {},
   "source": [
    "#### **Cleaning the NaN values**"
   ]
  },
  {
   "cell_type": "code",
   "execution_count": 226,
   "metadata": {},
   "outputs": [
    {
     "name": "stdout",
     "output_type": "stream",
     "text": [
      "      Age Gender        Country self_employed family_history treatment  \\\n",
      "18     46   male  United States           Yes            Yes        No   \n",
      "20     29   Male  United States            No            Yes       Yes   \n",
      "21     31   male  United States           Yes             No        No   \n",
      "22     46   Male  United States            No             No       Yes   \n",
      "23     41   Male  United States            No             No       Yes   \n",
      "...   ...    ...            ...           ...            ...       ...   \n",
      "1252   29   male  United States            No            Yes       Yes   \n",
      "1253   36   Male  United States            No            Yes        No   \n",
      "1255   32   Male  United States            No            Yes       Yes   \n",
      "1256   34   male  United States            No            Yes       Yes   \n",
      "1258   25   Male  United States            No            Yes       Yes   \n",
      "\n",
      "     work_interfere    no_employees remote_work tech_company  ...   anonymity  \\\n",
      "18        Sometimes             1-5         Yes          Yes  ...         Yes   \n",
      "20        Sometimes         100-500          No          Yes  ...          No   \n",
      "21            Never             1-5         Yes          Yes  ...         Yes   \n",
      "22            Often          26-100         Yes          Yes  ...  Don't know   \n",
      "23            Never  More than 1000          No           No  ...  Don't know   \n",
      "...             ...             ...         ...          ...  ...         ...   \n",
      "1252      Sometimes         100-500         Yes          Yes  ...         Yes   \n",
      "1253         Rarely  More than 1000          No           No  ...  Don't know   \n",
      "1255          Often          26-100         Yes          Yes  ...         Yes   \n",
      "1256      Sometimes  More than 1000          No          Yes  ...  Don't know   \n",
      "1258      Sometimes          26-100          No           No  ...         Yes   \n",
      "\n",
      "                   leave mental_health_consequence phys_health_consequence  \\\n",
      "18             Very easy                        No                      No   \n",
      "20    Somewhat difficult                     Maybe                      No   \n",
      "21    Somewhat difficult                        No                      No   \n",
      "22            Don't know                     Maybe                      No   \n",
      "23            Don't know                     Maybe                      No   \n",
      "...                  ...                       ...                     ...   \n",
      "1252          Don't know                       Yes                      No   \n",
      "1253       Somewhat easy                     Maybe                   Maybe   \n",
      "1255  Somewhat difficult                        No                      No   \n",
      "1256  Somewhat difficult                       Yes                     Yes   \n",
      "1258          Don't know                     Maybe                      No   \n",
      "\n",
      "         coworkers    supervisor mental_health_interview  \\\n",
      "18             Yes           Yes                      No   \n",
      "20    Some of them  Some of them                      No   \n",
      "21    Some of them  Some of them                      No   \n",
      "22    Some of them           Yes                      No   \n",
      "23              No            No                      No   \n",
      "...            ...           ...                     ...   \n",
      "1252  Some of them            No                      No   \n",
      "1253  Some of them  Some of them                      No   \n",
      "1255  Some of them           Yes                      No   \n",
      "1256            No            No                      No   \n",
      "1258  Some of them            No                      No   \n",
      "\n",
      "     phys_health_interview mental_vs_physical obs_consequence  \n",
      "18                     Yes                Yes             Yes  \n",
      "20                      No                 No              No  \n",
      "21                   Maybe                Yes              No  \n",
      "22                   Maybe                 No              No  \n",
      "23                     Yes         Don't know              No  \n",
      "...                    ...                ...             ...  \n",
      "1252                 Maybe                 No              No  \n",
      "1253                    No         Don't know              No  \n",
      "1255                    No                Yes              No  \n",
      "1256                    No                 No              No  \n",
      "1258                    No         Don't know              No  \n",
      "\n",
      "[977 rows x 24 columns]\n"
     ]
    }
   ],
   "source": [
    "data = data.dropna()\n",
    "print(data)"
   ]
  },
  {
   "cell_type": "code",
   "execution_count": 227,
   "metadata": {},
   "outputs": [
    {
     "data": {
      "text/plain": [
       "Age                          0\n",
       "Gender                       0\n",
       "Country                      0\n",
       "self_employed                0\n",
       "family_history               0\n",
       "treatment                    0\n",
       "work_interfere               0\n",
       "no_employees                 0\n",
       "remote_work                  0\n",
       "tech_company                 0\n",
       "benefits                     0\n",
       "care_options                 0\n",
       "wellness_program             0\n",
       "seek_help                    0\n",
       "anonymity                    0\n",
       "leave                        0\n",
       "mental_health_consequence    0\n",
       "phys_health_consequence      0\n",
       "coworkers                    0\n",
       "supervisor                   0\n",
       "mental_health_interview      0\n",
       "phys_health_interview        0\n",
       "mental_vs_physical           0\n",
       "obs_consequence              0\n",
       "dtype: int64"
      ]
     },
     "execution_count": 227,
     "metadata": {},
     "output_type": "execute_result"
    }
   ],
   "source": [
    "data.isna().sum()"
   ]
  },
  {
   "cell_type": "markdown",
   "metadata": {},
   "source": [
    "Now, our data does not contain any missing values !!"
   ]
  },
  {
   "attachments": {},
   "cell_type": "markdown",
   "metadata": {},
   "source": [
    "#### **Encoding data**"
   ]
  },
  {
   "cell_type": "code",
   "execution_count": 228,
   "metadata": {},
   "outputs": [
    {
     "name": "stdout",
     "output_type": "stream",
     "text": [
      "Age\n",
      "[         46          29          31          41          33          35\n",
      "          34          37          32          30          42          40\n",
      "          27          24          18          38          26          22\n",
      "          44          23          36          28          39          25\n",
      "          45          21          19          43          56          54\n",
      "         329          55 99999999999          57          58          48\n",
      "          47          62          51          50          49          20\n",
      "       -1726          53          61           8          11          -1\n",
      "          72          60]\n",
      "------------------------------\n",
      "Gender\n",
      "['male' 'Male' 'Female' 'female' 'M' 'm' 'Male-ish' 'Trans-female'\n",
      " 'Cis Female' 'F' 'Cis Male' 'f' 'Mal' 'queer/she/they' 'non-binary'\n",
      " 'woman' 'Make' 'Nah' 'All' 'Enby' 'fluid' 'Genderqueer' 'Female '\n",
      " 'Androgyne' 'Agender' 'cis-female/femme' 'Guy (-ish) ^_^'\n",
      " 'male leaning androgynous' 'Male ' 'Trans woman' 'msle' 'Neuter'\n",
      " 'Female (trans)' 'queer' 'Female (cis)' 'Mail' 'cis male'\n",
      " 'A little about you' 'Malr' 'p' 'Woman' 'femail' 'Cis Man'\n",
      " 'ostensibly male, unsure what that really means']\n",
      "------------------------------\n",
      "Country\n",
      "['United States' 'United Kingdom' 'Canada' 'Netherlands' 'Poland'\n",
      " 'Australia' 'France' 'Germany' 'Mexico' 'Brazil' 'Slovenia' 'Ireland'\n",
      " 'India' 'South Africa' 'Russia' 'Italy' 'Colombia' 'Portugal'\n",
      " 'Switzerland' 'Belgium' 'Sweden' 'New Zealand' 'Zimbabwe' 'Finland'\n",
      " 'Israel' 'Bosnia and Herzegovina' 'Austria' 'Hungary' 'Singapore' 'Japan'\n",
      " 'Bulgaria' 'Croatia' 'Thailand' 'Denmark' 'Bahamas, The' 'Moldova'\n",
      " 'Georgia' 'China' 'Czech Republic' 'Philippines']\n",
      "------------------------------\n",
      "self_employed\n",
      "['Yes' 'No']\n",
      "------------------------------\n",
      "family_history\n",
      "['Yes' 'No']\n",
      "------------------------------\n",
      "treatment\n",
      "['No' 'Yes']\n",
      "------------------------------\n",
      "work_interfere\n",
      "['Sometimes' 'Never' 'Often' 'Rarely']\n",
      "------------------------------\n",
      "no_employees\n",
      "['1-5' '100-500' '26-100' 'More than 1000' '6-25' '500-1000']\n",
      "------------------------------\n",
      "remote_work\n",
      "['Yes' 'No']\n",
      "------------------------------\n",
      "tech_company\n",
      "['Yes' 'No']\n",
      "------------------------------\n",
      "benefits\n",
      "['Yes' 'No' \"Don't know\"]\n",
      "------------------------------\n",
      "care_options\n",
      "['Not sure' 'Yes' 'No']\n",
      "------------------------------\n",
      "wellness_program\n",
      "['Yes' 'No' \"Don't know\"]\n",
      "------------------------------\n",
      "seek_help\n",
      "[\"Don't know\" 'No' 'Yes']\n",
      "------------------------------\n",
      "anonymity\n",
      "['Yes' 'No' \"Don't know\"]\n",
      "------------------------------\n",
      "leave\n",
      "['Very easy' 'Somewhat difficult' \"Don't know\" 'Very difficult'\n",
      " 'Somewhat easy']\n",
      "------------------------------\n",
      "mental_health_consequence\n",
      "['No' 'Maybe' 'Yes']\n",
      "------------------------------\n",
      "phys_health_consequence\n",
      "['No' 'Maybe' 'Yes']\n",
      "------------------------------\n",
      "coworkers\n",
      "['Yes' 'Some of them' 'No']\n",
      "------------------------------\n",
      "supervisor\n",
      "['Yes' 'Some of them' 'No']\n",
      "------------------------------\n",
      "mental_health_interview\n",
      "['No' 'Maybe' 'Yes']\n",
      "------------------------------\n",
      "phys_health_interview\n",
      "['Yes' 'No' 'Maybe']\n",
      "------------------------------\n",
      "mental_vs_physical\n",
      "['Yes' 'No' \"Don't know\"]\n",
      "------------------------------\n",
      "obs_consequence\n",
      "['Yes' 'No']\n",
      "------------------------------\n"
     ]
    }
   ],
   "source": [
    "cols = data.columns\n",
    "for i in range (len(cols)):\n",
    "    print(cols[i])\n",
    "    print(data[cols[i]].unique())\n",
    "    print('------------------------------')"
   ]
  },
  {
   "attachments": {},
   "cell_type": "markdown",
   "metadata": {},
   "source": [
    "##### **a. Gender column**"
   ]
  },
  {
   "cell_type": "code",
   "execution_count": 229,
   "metadata": {},
   "outputs": [
    {
     "data": {
      "text/plain": [
       "array(['male', 'Male', 'Female', 'female', 'M', 'm', 'Male-ish',\n",
       "       'Trans-female', 'Cis Female', 'F', 'Cis Male', 'f', 'Mal',\n",
       "       'queer/she/they', 'non-binary', 'woman', 'Make', 'Nah', 'All',\n",
       "       'Enby', 'fluid', 'Genderqueer', 'Female ', 'Androgyne', 'Agender',\n",
       "       'cis-female/femme', 'Guy (-ish) ^_^', 'male leaning androgynous',\n",
       "       'Male ', 'Trans woman', 'msle', 'Neuter', 'Female (trans)',\n",
       "       'queer', 'Female (cis)', 'Mail', 'cis male', 'A little about you',\n",
       "       'Malr', 'p', 'Woman', 'femail', 'Cis Man',\n",
       "       'ostensibly male, unsure what that really means'], dtype=object)"
      ]
     },
     "execution_count": 229,
     "metadata": {},
     "output_type": "execute_result"
    }
   ],
   "source": [
    "# unique values of Gender\n",
    "data['Gender'].unique()"
   ]
  },
  {
   "cell_type": "code",
   "execution_count": 230,
   "metadata": {},
   "outputs": [],
   "source": [
    "\n",
    "male = [\"male\", \"Male\", \"M\", \"m\", \"Male-ish\", \"maile\", \"Mal\", \"Male (CIS)\",\"mail\", \"Guy (-ish) ^_^\", \"Mail\",\n",
    "        \"male leaning androgynous\", \"Cis Male\", \"cis male\", \"Cis Man\", \"Make\", \"something kinda male?\", \"Man\", \"Malr\", \"Male \"]\n",
    "female = [\"female\", \"Female\", \"Woman\", \"woman\",\"F\", \"f\",\"femail\", \"Cis Female\", \"Femake\", \"cis-female/femme\",\n",
    "          \"Female (cis)\", \"Female \"]\n",
    "other = [\"Trans-female\", \"queer/she/they\", \"non-binary\", \"Genderqueer\", \"Female (trans)\", \"Agender\", \"A little about you\",\n",
    "         \"Nah\", \"All\", \"Enby\", \"fluid\", \"Androgyne\", \"Agender\", \"Trans woman\", \"msle\", \"Neuter\", \"queer\", \"p\", \"ostensibly male, unsure what that really means\"]"
   ]
  },
  {
   "cell_type": "code",
   "execution_count": 231,
   "metadata": {},
   "outputs": [],
   "source": [
    "for (row, col) in data.iterrows():\n",
    "\n",
    "    if col.Gender in male:\n",
    "        data['Gender'].replace(to_replace=col.Gender, value='male', inplace=True)\n",
    "\n",
    "    if col.Gender in female:\n",
    "        data['Gender'].replace(to_replace=col.Gender, value='female', inplace=True)\n",
    "\n",
    "    if col.Gender in other:\n",
    "        data['Gender'].replace(to_replace=col.Gender, value='other', inplace=True)\n"
   ]
  },
  {
   "cell_type": "code",
   "execution_count": 232,
   "metadata": {},
   "outputs": [
    {
     "data": {
      "text/plain": [
       "array(['male', 'female', 'other'], dtype=object)"
      ]
     },
     "execution_count": 232,
     "metadata": {},
     "output_type": "execute_result"
    }
   ],
   "source": [
    "data['Gender'].unique()"
   ]
  },
  {
   "attachments": {},
   "cell_type": "markdown",
   "metadata": {},
   "source": [
    "##### **b. Age column**"
   ]
  },
  {
   "cell_type": "code",
   "execution_count": 233,
   "metadata": {},
   "outputs": [
    {
     "data": {
      "text/plain": [
       "array([46, 29, 31, 41, 33, 35, 34, 37, 32, 30, 42, 40, 27, 24, 18, 38, 26,\n",
       "       22, 44, 23, 36, 28, 39, 25, 45, 21, 19, 43, 56, 54, 55, 57, 58, 48,\n",
       "       47, 62, 51, 50, 49, 20, 53, 61, 72, 60])"
      ]
     },
     "execution_count": 233,
     "metadata": {},
     "output_type": "execute_result"
    }
   ],
   "source": [
    "# Complete missing age with mean\n",
    "data['Age'].fillna(data['Age'].median(), inplace = True)\n",
    "\n",
    "# Fill values < 14 and > 120 with median()\n",
    "age = pd.Series(data['Age'])\n",
    "age[age < 14] = data['Age'].median()\n",
    "data['Age'] = age\n",
    "age = pd.Series(data['Age'])\n",
    "age[age > 120] = data['Age'].median()\n",
    "data['Age'] = age\n",
    "\n",
    "#Ranges of Age\n",
    "data['age_range'] = pd.cut(data['Age'], [0,20,30,65,120], labels=[\"0-20\", \"21-30\", \"31-65\", \"66-120\"], include_lowest=True)\n",
    "data[\"Age\"].unique()"
   ]
  },
  {
   "attachments": {},
   "cell_type": "markdown",
   "metadata": {},
   "source": [
    "##### **c. Self employed column**"
   ]
  },
  {
   "cell_type": "code",
   "execution_count": 234,
   "metadata": {},
   "outputs": [
    {
     "data": {
      "text/plain": [
       "array(['Yes', 'No'], dtype=object)"
      ]
     },
     "execution_count": 234,
     "metadata": {},
     "output_type": "execute_result"
    }
   ],
   "source": [
    "data['self_employed'].unique()"
   ]
  },
  {
   "cell_type": "code",
   "execution_count": 235,
   "metadata": {},
   "outputs": [
    {
     "data": {
      "text/plain": [
       "array([1, 0])"
      ]
     },
     "execution_count": 235,
     "metadata": {},
     "output_type": "execute_result"
    }
   ],
   "source": [
    "# Binary encoding using Lambda function\n",
    "data['self_employed'] = data['self_employed'].apply(lambda x: 1 if x == 'Yes' else 0)\n",
    "data['self_employed'].unique()"
   ]
  },
  {
   "attachments": {},
   "cell_type": "markdown",
   "metadata": {},
   "source": [
    "##### **d. Family history column**"
   ]
  },
  {
   "cell_type": "code",
   "execution_count": 236,
   "metadata": {},
   "outputs": [
    {
     "data": {
      "text/plain": [
       "array(['Yes', 'No'], dtype=object)"
      ]
     },
     "execution_count": 236,
     "metadata": {},
     "output_type": "execute_result"
    }
   ],
   "source": [
    "data['family_history'].unique()"
   ]
  },
  {
   "cell_type": "code",
   "execution_count": 237,
   "metadata": {},
   "outputs": [
    {
     "data": {
      "text/plain": [
       "array([1, 0])"
      ]
     },
     "execution_count": 237,
     "metadata": {},
     "output_type": "execute_result"
    }
   ],
   "source": [
    "# Binary encoding using Lambda function\n",
    "data['family_history'] = data['family_history'].apply(lambda x: 1 if x == 'Yes' else 0)\n",
    "data['family_history'].unique()"
   ]
  },
  {
   "attachments": {},
   "cell_type": "markdown",
   "metadata": {},
   "source": [
    "##### **e. Treatment column**"
   ]
  },
  {
   "cell_type": "code",
   "execution_count": 238,
   "metadata": {},
   "outputs": [
    {
     "data": {
      "text/plain": [
       "array(['No', 'Yes'], dtype=object)"
      ]
     },
     "execution_count": 238,
     "metadata": {},
     "output_type": "execute_result"
    }
   ],
   "source": [
    "data['treatment'].unique()"
   ]
  },
  {
   "cell_type": "code",
   "execution_count": 239,
   "metadata": {},
   "outputs": [
    {
     "data": {
      "text/plain": [
       "array([0, 1])"
      ]
     },
     "execution_count": 239,
     "metadata": {},
     "output_type": "execute_result"
    }
   ],
   "source": [
    "# Binary encoding using Lambda function\n",
    "data['treatment'] = data['treatment'].apply(lambda x: 1 if x == 'Yes' else 0)\n",
    "data['treatment'].unique()"
   ]
  },
  {
   "attachments": {},
   "cell_type": "markdown",
   "metadata": {},
   "source": [
    "##### **f. Work interfere column**"
   ]
  },
  {
   "cell_type": "code",
   "execution_count": 240,
   "metadata": {},
   "outputs": [
    {
     "data": {
      "text/plain": [
       "array(['Sometimes', 'Never', 'Often', 'Rarely'], dtype=object)"
      ]
     },
     "execution_count": 240,
     "metadata": {},
     "output_type": "execute_result"
    }
   ],
   "source": [
    "data['work_interfere'].unique()"
   ]
  },
  {
   "cell_type": "code",
   "execution_count": 241,
   "metadata": {},
   "outputs": [],
   "source": [
    "work_interfere_mapping = {'Never': 0, 'Rarely': 1, \"Sometimes\": 2, \"Often\" : 3}\n",
    "\n",
    "# encode the benefits column using the mapping\n",
    "data['work_interfere'] = data['work_interfere'].map(work_interfere_mapping)"
   ]
  },
  {
   "cell_type": "code",
   "execution_count": 242,
   "metadata": {},
   "outputs": [
    {
     "data": {
      "text/plain": [
       "array([2, 0, 3, 1])"
      ]
     },
     "execution_count": 242,
     "metadata": {},
     "output_type": "execute_result"
    }
   ],
   "source": [
    "#  Fill missing values with the most common category\n",
    "data['work_interfere'] = data['work_interfere'].fillna(data['work_interfere'].mode()[0])\n",
    "data[\"work_interfere\"].unique()"
   ]
  },
  {
   "attachments": {},
   "cell_type": "markdown",
   "metadata": {},
   "source": [
    "##### **g. Number of employees column**"
   ]
  },
  {
   "cell_type": "code",
   "execution_count": 243,
   "metadata": {},
   "outputs": [
    {
     "data": {
      "text/plain": [
       "array(['1-5', '100-500', '26-100', 'More than 1000', '6-25', '500-1000'],\n",
       "      dtype=object)"
      ]
     },
     "execution_count": 243,
     "metadata": {},
     "output_type": "execute_result"
    }
   ],
   "source": [
    "data['no_employees'].unique()"
   ]
  },
  {
   "cell_type": "code",
   "execution_count": null,
   "metadata": {},
   "outputs": [],
   "source": []
  },
  {
   "attachments": {},
   "cell_type": "markdown",
   "metadata": {},
   "source": [
    "##### **h. Remote work column**"
   ]
  },
  {
   "cell_type": "code",
   "execution_count": 244,
   "metadata": {},
   "outputs": [
    {
     "data": {
      "text/plain": [
       "array(['Yes', 'No'], dtype=object)"
      ]
     },
     "execution_count": 244,
     "metadata": {},
     "output_type": "execute_result"
    }
   ],
   "source": [
    "data['remote_work'].unique()"
   ]
  },
  {
   "cell_type": "code",
   "execution_count": 245,
   "metadata": {},
   "outputs": [
    {
     "data": {
      "text/plain": [
       "array([1, 0])"
      ]
     },
     "execution_count": 245,
     "metadata": {},
     "output_type": "execute_result"
    }
   ],
   "source": [
    "# Binary encoding using Lambda function\n",
    "data['remote_work'] = data['remote_work'].apply(lambda x: 1 if x == 'Yes' else 0)\n",
    "data['remote_work'].unique()"
   ]
  },
  {
   "attachments": {},
   "cell_type": "markdown",
   "metadata": {},
   "source": [
    "##### **i. Tech company column**"
   ]
  },
  {
   "cell_type": "code",
   "execution_count": 246,
   "metadata": {},
   "outputs": [
    {
     "data": {
      "text/plain": [
       "array(['Yes', 'No'], dtype=object)"
      ]
     },
     "execution_count": 246,
     "metadata": {},
     "output_type": "execute_result"
    }
   ],
   "source": [
    "data['tech_company'].unique()"
   ]
  },
  {
   "cell_type": "code",
   "execution_count": 247,
   "metadata": {},
   "outputs": [
    {
     "data": {
      "text/plain": [
       "array([1, 0])"
      ]
     },
     "execution_count": 247,
     "metadata": {},
     "output_type": "execute_result"
    }
   ],
   "source": [
    "# Binary encoding using Lambda function\n",
    "data['tech_company'] = data['tech_company'].apply(lambda x: 1 if x == 'Yes' else 0)\n",
    "data['tech_company'].unique()"
   ]
  },
  {
   "attachments": {},
   "cell_type": "markdown",
   "metadata": {},
   "source": [
    "##### **j. Benefits column**"
   ]
  },
  {
   "cell_type": "code",
   "execution_count": 248,
   "metadata": {},
   "outputs": [
    {
     "data": {
      "text/plain": [
       "array(['Yes', 'No', \"Don't know\"], dtype=object)"
      ]
     },
     "execution_count": 248,
     "metadata": {},
     "output_type": "execute_result"
    }
   ],
   "source": [
    "data['benefits'].unique()"
   ]
  },
  {
   "cell_type": "code",
   "execution_count": 249,
   "metadata": {},
   "outputs": [
    {
     "data": {
      "text/plain": [
       "array([1, 0, 2])"
      ]
     },
     "execution_count": 249,
     "metadata": {},
     "output_type": "execute_result"
    }
   ],
   "source": [
    "# define the mapping of values to numerical codes\n",
    "benefits_mapping = {'Yes': 1, 'No': 0, \"Don't know\": 2}\n",
    "\n",
    "# encode the benefits column using the mapping\n",
    "data['benefits'] = data['benefits'].map(benefits_mapping)\n",
    "data['benefits'].unique()"
   ]
  },
  {
   "attachments": {},
   "cell_type": "markdown",
   "metadata": {},
   "source": [
    "##### **k. Care options column**"
   ]
  },
  {
   "cell_type": "code",
   "execution_count": 250,
   "metadata": {},
   "outputs": [
    {
     "data": {
      "text/plain": [
       "array(['Not sure', 'Yes', 'No'], dtype=object)"
      ]
     },
     "execution_count": 250,
     "metadata": {},
     "output_type": "execute_result"
    }
   ],
   "source": [
    "data['care_options'].unique()"
   ]
  },
  {
   "cell_type": "code",
   "execution_count": 251,
   "metadata": {},
   "outputs": [
    {
     "data": {
      "text/plain": [
       "array([2, 1, 0])"
      ]
     },
     "execution_count": 251,
     "metadata": {},
     "output_type": "execute_result"
    }
   ],
   "source": [
    "care_options_mapping = {'Yes': 1, 'No': 0, \"Not sure\": 2}\n",
    "\n",
    "# encode the benefits column using the mapping\n",
    "data['care_options'] = data['care_options'].map(care_options_mapping)\n",
    "data['care_options'].unique()"
   ]
  },
  {
   "attachments": {},
   "cell_type": "markdown",
   "metadata": {},
   "source": [
    "##### **l. Wellness program column**"
   ]
  },
  {
   "cell_type": "code",
   "execution_count": 252,
   "metadata": {},
   "outputs": [
    {
     "data": {
      "text/plain": [
       "array(['Yes', 'No', \"Don't know\"], dtype=object)"
      ]
     },
     "execution_count": 252,
     "metadata": {},
     "output_type": "execute_result"
    }
   ],
   "source": [
    "data['wellness_program'].unique()"
   ]
  },
  {
   "cell_type": "code",
   "execution_count": 253,
   "metadata": {},
   "outputs": [
    {
     "data": {
      "text/plain": [
       "array([1, 0, 2])"
      ]
     },
     "execution_count": 253,
     "metadata": {},
     "output_type": "execute_result"
    }
   ],
   "source": [
    "wellness_program_mapping = {'Yes': 1, 'No': 0, \"Don't know\": 2}\n",
    "\n",
    "# encode the benefits column using the mapping\n",
    "data['wellness_program'] = data['wellness_program'].map(wellness_program_mapping)\n",
    "data['wellness_program'].unique()"
   ]
  },
  {
   "attachments": {},
   "cell_type": "markdown",
   "metadata": {},
   "source": [
    "##### **m. Seek help column**"
   ]
  },
  {
   "cell_type": "code",
   "execution_count": 254,
   "metadata": {},
   "outputs": [
    {
     "data": {
      "text/plain": [
       "array([\"Don't know\", 'No', 'Yes'], dtype=object)"
      ]
     },
     "execution_count": 254,
     "metadata": {},
     "output_type": "execute_result"
    }
   ],
   "source": [
    "data['seek_help'].unique()"
   ]
  },
  {
   "cell_type": "code",
   "execution_count": 255,
   "metadata": {},
   "outputs": [
    {
     "data": {
      "text/plain": [
       "array([2, 0, 1])"
      ]
     },
     "execution_count": 255,
     "metadata": {},
     "output_type": "execute_result"
    }
   ],
   "source": [
    "seek_help_mapping = {'Yes': 1, 'No': 0, \"Don't know\": 2}\n",
    "\n",
    "# encode the benefits column using the mapping\n",
    "data['seek_help'] = data['seek_help'].map(seek_help_mapping)\n",
    "data['seek_help'].unique()"
   ]
  },
  {
   "attachments": {},
   "cell_type": "markdown",
   "metadata": {},
   "source": [
    "##### **n. anonymity column**"
   ]
  },
  {
   "cell_type": "code",
   "execution_count": 256,
   "metadata": {},
   "outputs": [
    {
     "data": {
      "text/plain": [
       "array(['Yes', 'No', \"Don't know\"], dtype=object)"
      ]
     },
     "execution_count": 256,
     "metadata": {},
     "output_type": "execute_result"
    }
   ],
   "source": [
    "data['anonymity'].unique()"
   ]
  },
  {
   "cell_type": "code",
   "execution_count": 257,
   "metadata": {},
   "outputs": [
    {
     "data": {
      "text/plain": [
       "array([1, 0, 2])"
      ]
     },
     "execution_count": 257,
     "metadata": {},
     "output_type": "execute_result"
    }
   ],
   "source": [
    "anonymity_mapping = {'Yes': 1, 'No': 0, \"Don't know\": 2}\n",
    "\n",
    "# encode the benefits column using the mapping\n",
    "data['anonymity'] = data['anonymity'].map(anonymity_mapping)\n",
    "data['anonymity'].unique()"
   ]
  },
  {
   "attachments": {},
   "cell_type": "markdown",
   "metadata": {},
   "source": [
    "##### **o. leave column**"
   ]
  },
  {
   "cell_type": "code",
   "execution_count": 258,
   "metadata": {},
   "outputs": [
    {
     "data": {
      "text/plain": [
       "array(['Very easy', 'Somewhat difficult', \"Don't know\", 'Very difficult',\n",
       "       'Somewhat easy'], dtype=object)"
      ]
     },
     "execution_count": 258,
     "metadata": {},
     "output_type": "execute_result"
    }
   ],
   "source": [
    "data['leave'].unique()"
   ]
  },
  {
   "cell_type": "code",
   "execution_count": 259,
   "metadata": {},
   "outputs": [
    {
     "data": {
      "text/plain": [
       "array([3, 1, 4, 0, 2])"
      ]
     },
     "execution_count": 259,
     "metadata": {},
     "output_type": "execute_result"
    }
   ],
   "source": [
    "leave_mapping = {'Very difficult': 0, 'Somewhat difficult': 1, \"Somewhat easy\": 2, \"Very easy\": 3, \"Don't know\": 4}\n",
    "\n",
    "# encode the benefits column using the mapping\n",
    "data['leave'] = data['leave'].map(leave_mapping)\n",
    "data['leave'].unique()"
   ]
  },
  {
   "attachments": {},
   "cell_type": "markdown",
   "metadata": {},
   "source": [
    "##### **p. mental health consequence column**"
   ]
  },
  {
   "cell_type": "code",
   "execution_count": 260,
   "metadata": {},
   "outputs": [
    {
     "data": {
      "text/plain": [
       "array(['No', 'Maybe', 'Yes'], dtype=object)"
      ]
     },
     "execution_count": 260,
     "metadata": {},
     "output_type": "execute_result"
    }
   ],
   "source": [
    "data['mental_health_consequence'].unique()"
   ]
  },
  {
   "cell_type": "code",
   "execution_count": 261,
   "metadata": {},
   "outputs": [
    {
     "data": {
      "text/plain": [
       "array([0, 2, 1])"
      ]
     },
     "execution_count": 261,
     "metadata": {},
     "output_type": "execute_result"
    }
   ],
   "source": [
    "mental_health_consequence_mapping = {'No': 0, 'Yes': 1, \"Maybe\": 2}\n",
    "\n",
    "# encode the benefits column using the mapping\n",
    "data['mental_health_consequence'] = data['mental_health_consequence'].map(mental_health_consequence_mapping)\n",
    "data['mental_health_consequence'].unique()"
   ]
  },
  {
   "attachments": {},
   "cell_type": "markdown",
   "metadata": {},
   "source": [
    "##### **q. phys health consequence column**"
   ]
  },
  {
   "cell_type": "code",
   "execution_count": 262,
   "metadata": {},
   "outputs": [
    {
     "data": {
      "text/plain": [
       "array(['No', 'Maybe', 'Yes'], dtype=object)"
      ]
     },
     "execution_count": 262,
     "metadata": {},
     "output_type": "execute_result"
    }
   ],
   "source": [
    "data['phys_health_consequence'].unique()"
   ]
  },
  {
   "cell_type": "code",
   "execution_count": 263,
   "metadata": {},
   "outputs": [
    {
     "data": {
      "text/plain": [
       "array([0, 2, 1])"
      ]
     },
     "execution_count": 263,
     "metadata": {},
     "output_type": "execute_result"
    }
   ],
   "source": [
    "phys_health_consequence_mapping = {'No': 0, 'Yes': 1, \"Maybe\": 2}\n",
    "\n",
    "# encode the benefits column using the mapping\n",
    "data['phys_health_consequence'] = data['phys_health_consequence'].map(phys_health_consequence_mapping)\n",
    "data['phys_health_consequence'].unique()"
   ]
  },
  {
   "attachments": {},
   "cell_type": "markdown",
   "metadata": {},
   "source": [
    "##### **r. coworkers column**"
   ]
  },
  {
   "cell_type": "code",
   "execution_count": 264,
   "metadata": {},
   "outputs": [
    {
     "data": {
      "text/plain": [
       "array(['Yes', 'Some of them', 'No'], dtype=object)"
      ]
     },
     "execution_count": 264,
     "metadata": {},
     "output_type": "execute_result"
    }
   ],
   "source": [
    "data['coworkers'].unique()"
   ]
  },
  {
   "cell_type": "code",
   "execution_count": 265,
   "metadata": {},
   "outputs": [
    {
     "data": {
      "text/plain": [
       "array([1, 2, 0])"
      ]
     },
     "execution_count": 265,
     "metadata": {},
     "output_type": "execute_result"
    }
   ],
   "source": [
    "coworkers_mapping = {'No': 0, 'Yes': 1, \"Some of them\": 2}\n",
    "\n",
    "# encode the benefits column using the mapping\n",
    "data['coworkers'] = data['coworkers'].map(coworkers_mapping)\n",
    "data['coworkers'].unique()"
   ]
  },
  {
   "attachments": {},
   "cell_type": "markdown",
   "metadata": {},
   "source": [
    "##### **r. supervisor column**"
   ]
  },
  {
   "cell_type": "code",
   "execution_count": 266,
   "metadata": {},
   "outputs": [
    {
     "data": {
      "text/plain": [
       "array(['Yes', 'Some of them', 'No'], dtype=object)"
      ]
     },
     "execution_count": 266,
     "metadata": {},
     "output_type": "execute_result"
    }
   ],
   "source": [
    "data['supervisor'].unique()"
   ]
  },
  {
   "cell_type": "code",
   "execution_count": 267,
   "metadata": {},
   "outputs": [
    {
     "data": {
      "text/plain": [
       "array([1, 2, 0])"
      ]
     },
     "execution_count": 267,
     "metadata": {},
     "output_type": "execute_result"
    }
   ],
   "source": [
    "supervisor_mapping = {'No': 0, 'Yes': 1, \"Some of them\": 2}\n",
    "\n",
    "# encode the benefits column using the mapping\n",
    "data['supervisor'] = data['supervisor'].map(supervisor_mapping)\n",
    "data['supervisor'].unique()"
   ]
  },
  {
   "attachments": {},
   "cell_type": "markdown",
   "metadata": {},
   "source": [
    "##### **s. mental health interview column**"
   ]
  },
  {
   "cell_type": "code",
   "execution_count": 268,
   "metadata": {},
   "outputs": [
    {
     "data": {
      "text/plain": [
       "array(['No', 'Maybe', 'Yes'], dtype=object)"
      ]
     },
     "execution_count": 268,
     "metadata": {},
     "output_type": "execute_result"
    }
   ],
   "source": [
    "data['mental_health_interview'].unique()"
   ]
  },
  {
   "cell_type": "code",
   "execution_count": 269,
   "metadata": {},
   "outputs": [
    {
     "data": {
      "text/plain": [
       "array([0, 2, 1])"
      ]
     },
     "execution_count": 269,
     "metadata": {},
     "output_type": "execute_result"
    }
   ],
   "source": [
    "mental_health_interview_mapping = {'No': 0, 'Yes': 1, \"Maybe\": 2}\n",
    "\n",
    "# encode the benefits column using the mapping\n",
    "data['mental_health_interview'] = data['mental_health_interview'].map(mental_health_interview_mapping)\n",
    "data['mental_health_interview'].unique()"
   ]
  },
  {
   "attachments": {},
   "cell_type": "markdown",
   "metadata": {},
   "source": [
    "##### **t. phys health interview column**"
   ]
  },
  {
   "cell_type": "code",
   "execution_count": 270,
   "metadata": {},
   "outputs": [
    {
     "data": {
      "text/plain": [
       "array(['Yes', 'No', 'Maybe'], dtype=object)"
      ]
     },
     "execution_count": 270,
     "metadata": {},
     "output_type": "execute_result"
    }
   ],
   "source": [
    "data['phys_health_interview'].unique()"
   ]
  },
  {
   "cell_type": "code",
   "execution_count": 271,
   "metadata": {},
   "outputs": [
    {
     "data": {
      "text/plain": [
       "array([1, 0, 2])"
      ]
     },
     "execution_count": 271,
     "metadata": {},
     "output_type": "execute_result"
    }
   ],
   "source": [
    "phys_health_interview_mapping = {'No': 0, 'Yes': 1, \"Maybe\": 2}\n",
    "\n",
    "# encode the benefits column using the mapping\n",
    "data['phys_health_interview'] = data['phys_health_interview'].map(phys_health_interview_mapping)\n",
    "data['phys_health_interview'].unique()"
   ]
  },
  {
   "attachments": {},
   "cell_type": "markdown",
   "metadata": {},
   "source": [
    "##### **u. mental vs physical column**"
   ]
  },
  {
   "cell_type": "code",
   "execution_count": 272,
   "metadata": {},
   "outputs": [
    {
     "data": {
      "text/plain": [
       "array(['Yes', 'No', \"Don't know\"], dtype=object)"
      ]
     },
     "execution_count": 272,
     "metadata": {},
     "output_type": "execute_result"
    }
   ],
   "source": [
    "data['mental_vs_physical'].unique()"
   ]
  },
  {
   "cell_type": "code",
   "execution_count": 273,
   "metadata": {},
   "outputs": [
    {
     "data": {
      "text/plain": [
       "array([1, 0, 2])"
      ]
     },
     "execution_count": 273,
     "metadata": {},
     "output_type": "execute_result"
    }
   ],
   "source": [
    "mental_vs_physical_mapping = {'No': 0, 'Yes': 1, \"Don't know\": 2}\n",
    "\n",
    "# encode the benefits column using the mapping\n",
    "data['mental_vs_physical'] = data['mental_vs_physical'].map(mental_vs_physical_mapping)\n",
    "data['mental_vs_physical'].unique()"
   ]
  },
  {
   "attachments": {},
   "cell_type": "markdown",
   "metadata": {},
   "source": [
    "##### **v. obs consequence column**"
   ]
  },
  {
   "cell_type": "code",
   "execution_count": 274,
   "metadata": {},
   "outputs": [
    {
     "data": {
      "text/plain": [
       "array(['Yes', 'No'], dtype=object)"
      ]
     },
     "execution_count": 274,
     "metadata": {},
     "output_type": "execute_result"
    }
   ],
   "source": [
    "data['obs_consequence'].unique()"
   ]
  },
  {
   "cell_type": "code",
   "execution_count": 275,
   "metadata": {},
   "outputs": [
    {
     "data": {
      "text/plain": [
       "array([1, 0])"
      ]
     },
     "execution_count": 275,
     "metadata": {},
     "output_type": "execute_result"
    }
   ],
   "source": [
    "obs_consequence_mapping = {'No': 0, 'Yes': 1}\n",
    "\n",
    "# encode the benefits column using the mapping\n",
    "data['obs_consequence'] = data['obs_consequence'].map(obs_consequence_mapping)\n",
    "data['obs_consequence'].unique()"
   ]
  },
  {
   "cell_type": "markdown",
   "metadata": {},
   "source": [
    "### Explore and visualize data : exploratory data analysis (EDA)\n"
   ]
  },
  {
   "cell_type": "markdown",
   "metadata": {},
   "source": []
  },
  {
   "cell_type": "markdown",
   "metadata": {},
   "source": [
    "### Feature Engineering"
   ]
  },
  {
   "cell_type": "markdown",
   "metadata": {},
   "source": []
  },
  {
   "cell_type": "markdown",
   "metadata": {},
   "source": [
    "### Model Selection "
   ]
  },
  {
   "cell_type": "markdown",
   "metadata": {},
   "source": []
  },
  {
   "cell_type": "markdown",
   "metadata": {},
   "source": [
    "### Model Training and evaluation "
   ]
  },
  {
   "cell_type": "markdown",
   "metadata": {},
   "source": []
  },
  {
   "cell_type": "markdown",
   "metadata": {},
   "source": [
    "### Model tuning"
   ]
  },
  {
   "cell_type": "markdown",
   "metadata": {},
   "source": [
    "### Conclusions"
   ]
  },
  {
   "cell_type": "markdown",
   "metadata": {},
   "source": []
  }
 ],
 "metadata": {
  "kernelspec": {
   "display_name": "base",
   "language": "python",
   "name": "python3"
  },
  "language_info": {
   "codemirror_mode": {
    "name": "ipython",
    "version": 3
   },
   "file_extension": ".py",
   "mimetype": "text/x-python",
   "name": "python",
   "nbconvert_exporter": "python",
   "pygments_lexer": "ipython3",
   "version": "3.11.2"
  },
  "orig_nbformat": 4
 },
 "nbformat": 4,
 "nbformat_minor": 2
}
