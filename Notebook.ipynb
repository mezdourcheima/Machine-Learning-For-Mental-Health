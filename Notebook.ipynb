{
 "cells": [
  {
   "cell_type": "markdown",
   "metadata": {},
   "source": [
    "### Machine learning for mental Health\n",
    "\n",
    "##### The project involves machine learning models that can assist in predicting mental health conditions, analyzing mental health-related data and creating tools that help in diagnosing or monitoring mental health conditions.\n"
   ]
  },
  {
   "cell_type": "markdown",
   "metadata": {},
   "source": [
    "##### Our main objective is to predict whether a patient should be treated of his/her mental illness or not according to the values obtained in the dataset \n",
    "\n",
    "\n",
    "\n",
    "### ----------------------- Dataset Content--------------------------\n",
    "This dataset contains the following data:\n",
    "Timestamp\n",
    "Age\n",
    "Gender\n",
    "Country\n",
    "\n",
    "state: If you live in the United States, which state or territory do you live in?\n",
    "\n",
    "self_employed: Are you self-employed?\n",
    "\n",
    "family_history: Do you have a family history of mental illness?\n",
    "\n",
    "treatment: Have you sought treatment for a mental health condition?\n",
    "\n",
    "work_interfere: If you have a mental health condition, do you feel that it interferes with your work?\n",
    "\n",
    "no_employees: How many employees does your company or organization have?\n",
    "\n",
    "remote_work: Do you work remotely (outside of an office) at least 50% of the time?\n",
    "\n",
    "tech_company: Is your employer primarily a tech company/organization?\n",
    "\n",
    "benefits: Does your employer provide mental health benefits?\n",
    "\n",
    "care_options: Do you know the options for mental health care your employer provides?\n",
    "\n",
    "wellness_program: Has your employer ever discussed mental health as part of an employee wellness program?\n",
    "\n",
    "seek_help: Does your employer provide resources to learn more about mental health issues and how to seek help?\n",
    "\n",
    "anonymity: Is your anonymity protected if you choose to take advantage of mental health or substance abuse treatment resources?\n",
    "\n",
    "leave: How easy is it for you to take medical leave for a mental health condition?\n",
    "\n",
    "mental_health_consequence: Do you think that discussing a mental health issue with your employer would have negative consequences?\n",
    "\n",
    "phys_health_consequence: Do you think that discussing a physical health issue with your employer would have negative consequences?\n",
    "\n",
    "coworkers: Would you be willing to discuss a mental health issue with your coworkers?\n",
    "\n",
    "supervisor: Would you be willing to discuss a mental health issue with your direct supervisor(s)?\n",
    "\n",
    "mental_health_interview: Would you bring up a mental health issue with a potential employer in an interview?\n",
    "\n",
    "phys_health_interview: Would you bring up a physical health issue with a potential employer in an interview?\n",
    "\n",
    "mental_vs_physical: Do you feel that your employer takes mental health as seriously as physical health?\n",
    "\n",
    "obs_consequence: Have you heard of or observed negative consequences for coworkers with mental health conditions in your workplace?\n",
    "\n",
    "comments: Any additional notes or comments\n",
    "\n",
    "Output Label is = seek_help "
   ]
  },
  {
   "cell_type": "markdown",
   "metadata": {},
   "source": [
    "#### Imports"
   ]
  },
  {
   "cell_type": "code",
   "execution_count": 144,
   "metadata": {},
   "outputs": [],
   "source": [
    "import pandas as pd\n",
    "import numpy as np\n",
    "import matplotlib.pyplot as plt\n",
    "from sklearn.preprocessing import LabelEncoder\n",
    "from sklearn.model_selection import train_test_split\n",
    "from sklearn.preprocessing import MinMaxScaler, StandardScaler\n",
    "import seaborn as sns\n",
    "\n"
   ]
  },
  {
   "cell_type": "markdown",
   "metadata": {},
   "source": [
    "#### Data Preprocessing"
   ]
  },
  {
   "cell_type": "code",
   "execution_count": 145,
   "metadata": {},
   "outputs": [],
   "source": [
    "path = 'survey.csv'\n",
    "data = pd.read_csv(path)"
   ]
  },
  {
   "cell_type": "code",
   "execution_count": 146,
   "metadata": {},
   "outputs": [
    {
     "data": {
      "text/html": [
       "<div>\n",
       "<style scoped>\n",
       "    .dataframe tbody tr th:only-of-type {\n",
       "        vertical-align: middle;\n",
       "    }\n",
       "\n",
       "    .dataframe tbody tr th {\n",
       "        vertical-align: top;\n",
       "    }\n",
       "\n",
       "    .dataframe thead th {\n",
       "        text-align: right;\n",
       "    }\n",
       "</style>\n",
       "<table border=\"1\" class=\"dataframe\">\n",
       "  <thead>\n",
       "    <tr style=\"text-align: right;\">\n",
       "      <th></th>\n",
       "      <th>Timestamp</th>\n",
       "      <th>Age</th>\n",
       "      <th>Gender</th>\n",
       "      <th>Country</th>\n",
       "      <th>state</th>\n",
       "      <th>self_employed</th>\n",
       "      <th>family_history</th>\n",
       "      <th>treatment</th>\n",
       "      <th>work_interfere</th>\n",
       "      <th>no_employees</th>\n",
       "      <th>...</th>\n",
       "      <th>leave</th>\n",
       "      <th>mental_health_consequence</th>\n",
       "      <th>phys_health_consequence</th>\n",
       "      <th>coworkers</th>\n",
       "      <th>supervisor</th>\n",
       "      <th>mental_health_interview</th>\n",
       "      <th>phys_health_interview</th>\n",
       "      <th>mental_vs_physical</th>\n",
       "      <th>obs_consequence</th>\n",
       "      <th>comments</th>\n",
       "    </tr>\n",
       "  </thead>\n",
       "  <tbody>\n",
       "    <tr>\n",
       "      <th>0</th>\n",
       "      <td>2014-08-27 11:29:31</td>\n",
       "      <td>37</td>\n",
       "      <td>Female</td>\n",
       "      <td>United States</td>\n",
       "      <td>IL</td>\n",
       "      <td>NaN</td>\n",
       "      <td>No</td>\n",
       "      <td>Yes</td>\n",
       "      <td>Often</td>\n",
       "      <td>6-25</td>\n",
       "      <td>...</td>\n",
       "      <td>Somewhat easy</td>\n",
       "      <td>No</td>\n",
       "      <td>No</td>\n",
       "      <td>Some of them</td>\n",
       "      <td>Yes</td>\n",
       "      <td>No</td>\n",
       "      <td>Maybe</td>\n",
       "      <td>Yes</td>\n",
       "      <td>No</td>\n",
       "      <td>NaN</td>\n",
       "    </tr>\n",
       "    <tr>\n",
       "      <th>1</th>\n",
       "      <td>2014-08-27 11:29:37</td>\n",
       "      <td>44</td>\n",
       "      <td>M</td>\n",
       "      <td>United States</td>\n",
       "      <td>IN</td>\n",
       "      <td>NaN</td>\n",
       "      <td>No</td>\n",
       "      <td>No</td>\n",
       "      <td>Rarely</td>\n",
       "      <td>More than 1000</td>\n",
       "      <td>...</td>\n",
       "      <td>Don't know</td>\n",
       "      <td>Maybe</td>\n",
       "      <td>No</td>\n",
       "      <td>No</td>\n",
       "      <td>No</td>\n",
       "      <td>No</td>\n",
       "      <td>No</td>\n",
       "      <td>Don't know</td>\n",
       "      <td>No</td>\n",
       "      <td>NaN</td>\n",
       "    </tr>\n",
       "    <tr>\n",
       "      <th>2</th>\n",
       "      <td>2014-08-27 11:29:44</td>\n",
       "      <td>32</td>\n",
       "      <td>Male</td>\n",
       "      <td>Canada</td>\n",
       "      <td>NaN</td>\n",
       "      <td>NaN</td>\n",
       "      <td>No</td>\n",
       "      <td>No</td>\n",
       "      <td>Rarely</td>\n",
       "      <td>6-25</td>\n",
       "      <td>...</td>\n",
       "      <td>Somewhat difficult</td>\n",
       "      <td>No</td>\n",
       "      <td>No</td>\n",
       "      <td>Yes</td>\n",
       "      <td>Yes</td>\n",
       "      <td>Yes</td>\n",
       "      <td>Yes</td>\n",
       "      <td>No</td>\n",
       "      <td>No</td>\n",
       "      <td>NaN</td>\n",
       "    </tr>\n",
       "    <tr>\n",
       "      <th>3</th>\n",
       "      <td>2014-08-27 11:29:46</td>\n",
       "      <td>31</td>\n",
       "      <td>Male</td>\n",
       "      <td>United Kingdom</td>\n",
       "      <td>NaN</td>\n",
       "      <td>NaN</td>\n",
       "      <td>Yes</td>\n",
       "      <td>Yes</td>\n",
       "      <td>Often</td>\n",
       "      <td>26-100</td>\n",
       "      <td>...</td>\n",
       "      <td>Somewhat difficult</td>\n",
       "      <td>Yes</td>\n",
       "      <td>Yes</td>\n",
       "      <td>Some of them</td>\n",
       "      <td>No</td>\n",
       "      <td>Maybe</td>\n",
       "      <td>Maybe</td>\n",
       "      <td>No</td>\n",
       "      <td>Yes</td>\n",
       "      <td>NaN</td>\n",
       "    </tr>\n",
       "    <tr>\n",
       "      <th>4</th>\n",
       "      <td>2014-08-27 11:30:22</td>\n",
       "      <td>31</td>\n",
       "      <td>Male</td>\n",
       "      <td>United States</td>\n",
       "      <td>TX</td>\n",
       "      <td>NaN</td>\n",
       "      <td>No</td>\n",
       "      <td>No</td>\n",
       "      <td>Never</td>\n",
       "      <td>100-500</td>\n",
       "      <td>...</td>\n",
       "      <td>Don't know</td>\n",
       "      <td>No</td>\n",
       "      <td>No</td>\n",
       "      <td>Some of them</td>\n",
       "      <td>Yes</td>\n",
       "      <td>Yes</td>\n",
       "      <td>Yes</td>\n",
       "      <td>Don't know</td>\n",
       "      <td>No</td>\n",
       "      <td>NaN</td>\n",
       "    </tr>\n",
       "  </tbody>\n",
       "</table>\n",
       "<p>5 rows × 27 columns</p>\n",
       "</div>"
      ],
      "text/plain": [
       "             Timestamp  Age  Gender         Country state self_employed   \n",
       "0  2014-08-27 11:29:31   37  Female   United States    IL           NaN  \\\n",
       "1  2014-08-27 11:29:37   44       M   United States    IN           NaN   \n",
       "2  2014-08-27 11:29:44   32    Male          Canada   NaN           NaN   \n",
       "3  2014-08-27 11:29:46   31    Male  United Kingdom   NaN           NaN   \n",
       "4  2014-08-27 11:30:22   31    Male   United States    TX           NaN   \n",
       "\n",
       "  family_history treatment work_interfere    no_employees  ...   \n",
       "0             No       Yes          Often            6-25  ...  \\\n",
       "1             No        No         Rarely  More than 1000  ...   \n",
       "2             No        No         Rarely            6-25  ...   \n",
       "3            Yes       Yes          Often          26-100  ...   \n",
       "4             No        No          Never         100-500  ...   \n",
       "\n",
       "                leave mental_health_consequence phys_health_consequence   \n",
       "0       Somewhat easy                        No                      No  \\\n",
       "1          Don't know                     Maybe                      No   \n",
       "2  Somewhat difficult                        No                      No   \n",
       "3  Somewhat difficult                       Yes                     Yes   \n",
       "4          Don't know                        No                      No   \n",
       "\n",
       "      coworkers supervisor mental_health_interview phys_health_interview   \n",
       "0  Some of them        Yes                      No                 Maybe  \\\n",
       "1            No         No                      No                    No   \n",
       "2           Yes        Yes                     Yes                   Yes   \n",
       "3  Some of them         No                   Maybe                 Maybe   \n",
       "4  Some of them        Yes                     Yes                   Yes   \n",
       "\n",
       "  mental_vs_physical obs_consequence comments  \n",
       "0                Yes              No      NaN  \n",
       "1         Don't know              No      NaN  \n",
       "2                 No              No      NaN  \n",
       "3                 No             Yes      NaN  \n",
       "4         Don't know              No      NaN  \n",
       "\n",
       "[5 rows x 27 columns]"
      ]
     },
     "execution_count": 146,
     "metadata": {},
     "output_type": "execute_result"
    }
   ],
   "source": [
    "data.head()"
   ]
  },
  {
   "cell_type": "code",
   "execution_count": 147,
   "metadata": {},
   "outputs": [
    {
     "data": {
      "text/html": [
       "<div>\n",
       "<style scoped>\n",
       "    .dataframe tbody tr th:only-of-type {\n",
       "        vertical-align: middle;\n",
       "    }\n",
       "\n",
       "    .dataframe tbody tr th {\n",
       "        vertical-align: top;\n",
       "    }\n",
       "\n",
       "    .dataframe thead th {\n",
       "        text-align: right;\n",
       "    }\n",
       "</style>\n",
       "<table border=\"1\" class=\"dataframe\">\n",
       "  <thead>\n",
       "    <tr style=\"text-align: right;\">\n",
       "      <th></th>\n",
       "      <th>Age</th>\n",
       "    </tr>\n",
       "  </thead>\n",
       "  <tbody>\n",
       "    <tr>\n",
       "      <th>count</th>\n",
       "      <td>1.259000e+03</td>\n",
       "    </tr>\n",
       "    <tr>\n",
       "      <th>mean</th>\n",
       "      <td>7.942815e+07</td>\n",
       "    </tr>\n",
       "    <tr>\n",
       "      <th>std</th>\n",
       "      <td>2.818299e+09</td>\n",
       "    </tr>\n",
       "    <tr>\n",
       "      <th>min</th>\n",
       "      <td>-1.726000e+03</td>\n",
       "    </tr>\n",
       "    <tr>\n",
       "      <th>25%</th>\n",
       "      <td>2.700000e+01</td>\n",
       "    </tr>\n",
       "    <tr>\n",
       "      <th>50%</th>\n",
       "      <td>3.100000e+01</td>\n",
       "    </tr>\n",
       "    <tr>\n",
       "      <th>75%</th>\n",
       "      <td>3.600000e+01</td>\n",
       "    </tr>\n",
       "    <tr>\n",
       "      <th>max</th>\n",
       "      <td>1.000000e+11</td>\n",
       "    </tr>\n",
       "  </tbody>\n",
       "</table>\n",
       "</div>"
      ],
      "text/plain": [
       "                Age\n",
       "count  1.259000e+03\n",
       "mean   7.942815e+07\n",
       "std    2.818299e+09\n",
       "min   -1.726000e+03\n",
       "25%    2.700000e+01\n",
       "50%    3.100000e+01\n",
       "75%    3.600000e+01\n",
       "max    1.000000e+11"
      ]
     },
     "execution_count": 147,
     "metadata": {},
     "output_type": "execute_result"
    }
   ],
   "source": [
    "data.describe()"
   ]
  },
  {
   "cell_type": "code",
   "execution_count": 148,
   "metadata": {},
   "outputs": [
    {
     "name": "stdout",
     "output_type": "stream",
     "text": [
      "<class 'pandas.core.frame.DataFrame'>\n",
      "RangeIndex: 1259 entries, 0 to 1258\n",
      "Data columns (total 27 columns):\n",
      " #   Column                     Non-Null Count  Dtype \n",
      "---  ------                     --------------  ----- \n",
      " 0   Timestamp                  1259 non-null   object\n",
      " 1   Age                        1259 non-null   int64 \n",
      " 2   Gender                     1259 non-null   object\n",
      " 3   Country                    1259 non-null   object\n",
      " 4   state                      744 non-null    object\n",
      " 5   self_employed              1241 non-null   object\n",
      " 6   family_history             1259 non-null   object\n",
      " 7   treatment                  1259 non-null   object\n",
      " 8   work_interfere             995 non-null    object\n",
      " 9   no_employees               1259 non-null   object\n",
      " 10  remote_work                1259 non-null   object\n",
      " 11  tech_company               1259 non-null   object\n",
      " 12  benefits                   1259 non-null   object\n",
      " 13  care_options               1259 non-null   object\n",
      " 14  wellness_program           1259 non-null   object\n",
      " 15  seek_help                  1259 non-null   object\n",
      " 16  anonymity                  1259 non-null   object\n",
      " 17  leave                      1259 non-null   object\n",
      " 18  mental_health_consequence  1259 non-null   object\n",
      " 19  phys_health_consequence    1259 non-null   object\n",
      " 20  coworkers                  1259 non-null   object\n",
      " 21  supervisor                 1259 non-null   object\n",
      " 22  mental_health_interview    1259 non-null   object\n",
      " 23  phys_health_interview      1259 non-null   object\n",
      " 24  mental_vs_physical         1259 non-null   object\n",
      " 25  obs_consequence            1259 non-null   object\n",
      " 26  comments                   164 non-null    object\n",
      "dtypes: int64(1), object(26)\n",
      "memory usage: 265.7+ KB\n"
     ]
    }
   ],
   "source": [
    "data.info()"
   ]
  },
  {
   "cell_type": "code",
   "execution_count": 149,
   "metadata": {},
   "outputs": [
    {
     "data": {
      "text/plain": [
       "Timestamp                       0\n",
       "Age                             0\n",
       "Gender                          0\n",
       "Country                         0\n",
       "state                         515\n",
       "self_employed                  18\n",
       "family_history                  0\n",
       "treatment                       0\n",
       "work_interfere                264\n",
       "no_employees                    0\n",
       "remote_work                     0\n",
       "tech_company                    0\n",
       "benefits                        0\n",
       "care_options                    0\n",
       "wellness_program                0\n",
       "seek_help                       0\n",
       "anonymity                       0\n",
       "leave                           0\n",
       "mental_health_consequence       0\n",
       "phys_health_consequence         0\n",
       "coworkers                       0\n",
       "supervisor                      0\n",
       "mental_health_interview         0\n",
       "phys_health_interview           0\n",
       "mental_vs_physical              0\n",
       "obs_consequence                 0\n",
       "comments                     1095\n",
       "dtype: int64"
      ]
     },
     "execution_count": 149,
     "metadata": {},
     "output_type": "execute_result"
    }
   ],
   "source": [
    "data.isna().sum()"
   ]
  },
  {
   "cell_type": "code",
   "execution_count": 150,
   "metadata": {},
   "outputs": [],
   "source": [
    "data.drop(['comments', 'state', 'Timestamp'],  axis=1, inplace=True)"
   ]
  },
  {
   "cell_type": "code",
   "execution_count": 151,
   "metadata": {},
   "outputs": [
    {
     "data": {
      "text/plain": [
       "Age                            0\n",
       "Gender                         0\n",
       "Country                        0\n",
       "self_employed                 18\n",
       "family_history                 0\n",
       "treatment                      0\n",
       "work_interfere               264\n",
       "no_employees                   0\n",
       "remote_work                    0\n",
       "tech_company                   0\n",
       "benefits                       0\n",
       "care_options                   0\n",
       "wellness_program               0\n",
       "seek_help                      0\n",
       "anonymity                      0\n",
       "leave                          0\n",
       "mental_health_consequence      0\n",
       "phys_health_consequence        0\n",
       "coworkers                      0\n",
       "supervisor                     0\n",
       "mental_health_interview        0\n",
       "phys_health_interview          0\n",
       "mental_vs_physical             0\n",
       "obs_consequence                0\n",
       "dtype: int64"
      ]
     },
     "execution_count": 151,
     "metadata": {},
     "output_type": "execute_result"
    }
   ],
   "source": [
    "data.isna().sum()"
   ]
  },
  {
   "cell_type": "code",
   "execution_count": 152,
   "metadata": {},
   "outputs": [
    {
     "name": "stdout",
     "output_type": "stream",
     "text": [
      "Age                           0.00\n",
      "Gender                        0.00\n",
      "Country                       0.00\n",
      "self_employed                 1.43\n",
      "family_history                0.00\n",
      "treatment                     0.00\n",
      "work_interfere               20.97\n",
      "no_employees                  0.00\n",
      "remote_work                   0.00\n",
      "tech_company                  0.00\n",
      "benefits                      0.00\n",
      "care_options                  0.00\n",
      "wellness_program              0.00\n",
      "seek_help                     0.00\n",
      "anonymity                     0.00\n",
      "leave                         0.00\n",
      "mental_health_consequence     0.00\n",
      "phys_health_consequence       0.00\n",
      "coworkers                     0.00\n",
      "supervisor                    0.00\n",
      "mental_health_interview       0.00\n",
      "phys_health_interview         0.00\n",
      "mental_vs_physical            0.00\n",
      "obs_consequence               0.00\n",
      "dtype: float64\n"
     ]
    }
   ],
   "source": [
    "# Assuming your DataFrame is called 'Data'\n",
    "missing_percentages = (data.isna().mean() * 100).round(2)\n",
    "\n",
    "print(missing_percentages)"
   ]
  },
  {
   "cell_type": "markdown",
   "metadata": {},
   "source": [
    "##### Cleaning the NaN values"
   ]
  },
  {
   "cell_type": "code",
   "execution_count": 153,
   "metadata": {},
   "outputs": [],
   "source": [
    "df_clean = data"
   ]
  },
  {
   "cell_type": "code",
   "execution_count": 154,
   "metadata": {},
   "outputs": [
    {
     "data": {
      "text/plain": [
       "Age                            0\n",
       "Gender                         0\n",
       "Country                        0\n",
       "self_employed                 18\n",
       "family_history                 0\n",
       "treatment                      0\n",
       "work_interfere               264\n",
       "no_employees                   0\n",
       "remote_work                    0\n",
       "tech_company                   0\n",
       "benefits                       0\n",
       "care_options                   0\n",
       "wellness_program               0\n",
       "seek_help                      0\n",
       "anonymity                      0\n",
       "leave                          0\n",
       "mental_health_consequence      0\n",
       "phys_health_consequence        0\n",
       "coworkers                      0\n",
       "supervisor                     0\n",
       "mental_health_interview        0\n",
       "phys_health_interview          0\n",
       "mental_vs_physical             0\n",
       "obs_consequence                0\n",
       "dtype: int64"
      ]
     },
     "execution_count": 154,
     "metadata": {},
     "output_type": "execute_result"
    }
   ],
   "source": [
    "df_clean.isna().sum()"
   ]
  },
  {
   "cell_type": "markdown",
   "metadata": {},
   "source": [
    "Now, our data does not contain any missing values !!"
   ]
  },
  {
   "cell_type": "markdown",
   "metadata": {},
   "source": [
    "##### Encoding data"
   ]
  },
  {
   "cell_type": "code",
   "execution_count": 155,
   "metadata": {},
   "outputs": [
    {
     "name": "stdout",
     "output_type": "stream",
     "text": [
      "Column \"Age\" has 53 unique values: [         37          44          32          31          33          35\n",
      "          39          42          23          29          36          27\n",
      "          46          41          34          30          40          38\n",
      "          50          24          18          28          26          22\n",
      "          19          25          45          21         -29          43\n",
      "          56          60          54         329          55 99999999999\n",
      "          48          20          57          58          47          62\n",
      "          51          65          49       -1726           5          53\n",
      "          61           8          11          -1          72]\n",
      "Column \"Gender\" has 49 unique values: ['Female' 'M' 'Male' 'male' 'female' 'm' 'Male-ish' 'maile' 'Trans-female'\n",
      " 'Cis Female' 'F' 'something kinda male?' 'Cis Male' 'Woman' 'f' 'Mal'\n",
      " 'Male (CIS)' 'queer/she/they' 'non-binary' 'Femake' 'woman' 'Make' 'Nah'\n",
      " 'All' 'Enby' 'fluid' 'Genderqueer' 'Female ' 'Androgyne' 'Agender'\n",
      " 'cis-female/femme' 'Guy (-ish) ^_^' 'male leaning androgynous' 'Male '\n",
      " 'Man' 'Trans woman' 'msle' 'Neuter' 'Female (trans)' 'queer'\n",
      " 'Female (cis)' 'Mail' 'cis male' 'A little about you' 'Malr' 'p' 'femail'\n",
      " 'Cis Man' 'ostensibly male, unsure what that really means']\n",
      "Column \"Country\" has 48 unique values: ['United States' 'Canada' 'United Kingdom' 'Bulgaria' 'France' 'Portugal'\n",
      " 'Netherlands' 'Switzerland' 'Poland' 'Australia' 'Germany' 'Russia'\n",
      " 'Mexico' 'Brazil' 'Slovenia' 'Costa Rica' 'Austria' 'Ireland' 'India'\n",
      " 'South Africa' 'Italy' 'Sweden' 'Colombia' 'Latvia' 'Romania' 'Belgium'\n",
      " 'New Zealand' 'Zimbabwe' 'Spain' 'Finland' 'Uruguay' 'Israel'\n",
      " 'Bosnia and Herzegovina' 'Hungary' 'Singapore' 'Japan' 'Nigeria'\n",
      " 'Croatia' 'Norway' 'Thailand' 'Denmark' 'Bahamas, The' 'Greece' 'Moldova'\n",
      " 'Georgia' 'China' 'Czech Republic' 'Philippines']\n",
      "Column \"self_employed\" has 3 unique values: [nan 'Yes' 'No']\n",
      "Column \"family_history\" has 2 unique values: ['No' 'Yes']\n",
      "Column \"treatment\" has 2 unique values: ['Yes' 'No']\n",
      "Column \"work_interfere\" has 5 unique values: ['Often' 'Rarely' 'Never' 'Sometimes' nan]\n",
      "Column \"no_employees\" has 6 unique values: ['6-25' 'More than 1000' '26-100' '100-500' '1-5' '500-1000']\n",
      "Column \"remote_work\" has 2 unique values: ['No' 'Yes']\n",
      "Column \"tech_company\" has 2 unique values: ['Yes' 'No']\n",
      "Column \"benefits\" has 3 unique values: ['Yes' \"Don't know\" 'No']\n",
      "Column \"care_options\" has 3 unique values: ['Not sure' 'No' 'Yes']\n",
      "Column \"wellness_program\" has 3 unique values: ['No' \"Don't know\" 'Yes']\n",
      "Column \"seek_help\" has 3 unique values: ['Yes' \"Don't know\" 'No']\n",
      "Column \"anonymity\" has 3 unique values: ['Yes' \"Don't know\" 'No']\n",
      "Column \"leave\" has 5 unique values: ['Somewhat easy' \"Don't know\" 'Somewhat difficult' 'Very difficult'\n",
      " 'Very easy']\n",
      "Column \"mental_health_consequence\" has 3 unique values: ['No' 'Maybe' 'Yes']\n",
      "Column \"phys_health_consequence\" has 3 unique values: ['No' 'Yes' 'Maybe']\n",
      "Column \"coworkers\" has 3 unique values: ['Some of them' 'No' 'Yes']\n",
      "Column \"supervisor\" has 3 unique values: ['Yes' 'No' 'Some of them']\n",
      "Column \"mental_health_interview\" has 3 unique values: ['No' 'Yes' 'Maybe']\n",
      "Column \"phys_health_interview\" has 3 unique values: ['Maybe' 'No' 'Yes']\n",
      "Column \"mental_vs_physical\" has 3 unique values: ['Yes' \"Don't know\" 'No']\n",
      "Column \"obs_consequence\" has 2 unique values: ['No' 'Yes']\n"
     ]
    }
   ],
   "source": [
    "# Iterate through each column in the DataFrame\n",
    "for column in df_clean.columns:\n",
    "    unique_values = df_clean[column].unique()\n",
    "    print(f'Column \"{column}\" has {len(unique_values)} unique values: {unique_values}')"
   ]
  },
  {
   "cell_type": "code",
   "execution_count": 156,
   "metadata": {},
   "outputs": [],
   "source": [
    "# LabelEncoder from scikit-learn\n",
    "le = LabelEncoder()"
   ]
  },
  {
   "cell_type": "markdown",
   "metadata": {},
   "source": [
    "0- Work interference"
   ]
  },
  {
   "cell_type": "code",
   "execution_count": 157,
   "metadata": {},
   "outputs": [
    {
     "data": {
      "text/plain": [
       "array(['Often', 'Rarely', 'Never', 'Sometimes', nan], dtype=object)"
      ]
     },
     "execution_count": 157,
     "metadata": {},
     "output_type": "execute_result"
    }
   ],
   "source": [
    "df_clean['work_interfere'].unique()"
   ]
  },
  {
   "cell_type": "code",
   "execution_count": 158,
   "metadata": {},
   "outputs": [
    {
     "data": {
      "text/plain": [
       "array([1, 2, 0, 3, nan], dtype=object)"
      ]
     },
     "execution_count": 158,
     "metadata": {},
     "output_type": "execute_result"
    }
   ],
   "source": [
    "\n",
    "# Encode non-NaN values in the 'work_interfere' column\n",
    "df_clean.loc[df_clean['work_interfere'].notnull(), 'work_interfere'] = le.fit_transform(df_clean.loc[df_clean['work_interfere'].notnull(), 'work_interfere'])\n",
    "\n",
    "# Check the unique values in the 'work_interfere' column\n",
    "df_clean['work_interfere'].unique()\n"
   ]
  },
  {
   "cell_type": "markdown",
   "metadata": {},
   "source": [
    "1 - Age column"
   ]
  },
  {
   "cell_type": "code",
   "execution_count": 159,
   "metadata": {},
   "outputs": [
    {
     "name": "stdout",
     "output_type": "stream",
     "text": [
      "[         37          44          32          31          33          35\n",
      "          39          42          23          29          36          27\n",
      "          46          41          34          30          40          38\n",
      "          50          24          18          28          26          22\n",
      "          19          25          45          21         -29          43\n",
      "          56          60          54         329          55 99999999999\n",
      "          48          20          57          58          47          62\n",
      "          51          65          49       -1726           5          53\n",
      "          61           8          11          -1          72]\n"
     ]
    }
   ],
   "source": [
    "unique_values_age = df_clean['Age'].unique()\n",
    "print(unique_values_age)"
   ]
  },
  {
   "cell_type": "code",
   "execution_count": 160,
   "metadata": {},
   "outputs": [],
   "source": [
    "# Fill with media() values < 18 and > 120\n",
    "df_clean.loc[df_clean['Age'] < 18, 'Age'] = df_clean['Age'].median()\n",
    "df_clean.loc[df_clean['Age'] > 120, 'Age'] = df_clean['Age'].median()"
   ]
  },
  {
   "cell_type": "code",
   "execution_count": 161,
   "metadata": {},
   "outputs": [
    {
     "data": {
      "text/plain": [
       "array([37, 44, 32, 31, 33, 35, 39, 42, 23, 29, 36, 27, 46, 41, 34, 30, 40,\n",
       "       38, 50, 24, 18, 28, 26, 22, 19, 25, 45, 21, 43, 56, 60, 54, 55, 48,\n",
       "       20, 57, 58, 47, 62, 51, 65, 49, 53, 61, 72])"
      ]
     },
     "execution_count": 161,
     "metadata": {},
     "output_type": "execute_result"
    }
   ],
   "source": [
    "df_clean['Age'].unique()"
   ]
  },
  {
   "cell_type": "markdown",
   "metadata": {},
   "source": [
    "Now, our age column is encoded and has no invalid values"
   ]
  },
  {
   "cell_type": "markdown",
   "metadata": {},
   "source": [
    "2 - Gender column"
   ]
  },
  {
   "cell_type": "code",
   "execution_count": 162,
   "metadata": {},
   "outputs": [
    {
     "name": "stdout",
     "output_type": "stream",
     "text": [
      "['female' 'male']\n"
     ]
    }
   ],
   "source": [
    "male_str = ['male','m', 'cis male','male leaning androgynous','male-ish', 'maile', 'mal', 'male (cis)', 'male ','guy (-ish) ^_^','make','something kinda male?','man', 'msle', 'mail', 'malr','cis man']\n",
    "female_str = ['female', 'female ', 'cis female', 'f', 'femake', 'female (cis)','woman', 'femail', 'cis-female/femme', 'female (trans)','trans woman', 'trans-female', 'woman','queer','queer/she/they']\n",
    "\n",
    "df_clean['Gender'] = df_clean['Gender'].str.lower()\n",
    "df_clean.loc[df_clean['Gender'].isin(male_str), 'Gender'] = 'male'\n",
    "df_clean.loc[df_clean['Gender'].isin(female_str), 'Gender'] = 'female'\n",
    "\n",
    "#Get rid of bullshit\n",
    "stk_list = ['non-binary','nah','all','enby','fluid','genderqueer','androgyne','agender' ,'neuter','a little about you','p','ostensibly male, unsure what that really means']\n",
    "df_clean = df_clean[~df_clean['Gender'].isin(stk_list)]\n",
    "print(df_clean['Gender'].unique())"
   ]
  },
  {
   "cell_type": "code",
   "execution_count": 163,
   "metadata": {},
   "outputs": [
    {
     "name": "stderr",
     "output_type": "stream",
     "text": [
      "/var/folders/rr/62tz31v139gdkk0h36fmvq240000gn/T/ipykernel_21124/1858732997.py:1: SettingWithCopyWarning: \n",
      "A value is trying to be set on a copy of a slice from a DataFrame.\n",
      "Try using .loc[row_indexer,col_indexer] = value instead\n",
      "\n",
      "See the caveats in the documentation: https://pandas.pydata.org/pandas-docs/stable/user_guide/indexing.html#returning-a-view-versus-a-copy\n",
      "  df_clean['Gender'] = le.fit_transform(df_clean['Gender'])\n"
     ]
    },
    {
     "data": {
      "text/plain": [
       "array([0, 1])"
      ]
     },
     "execution_count": 163,
     "metadata": {},
     "output_type": "execute_result"
    }
   ],
   "source": [
    "df_clean['Gender'] = le.fit_transform(df_clean['Gender'])\n",
    "df_clean['Gender'].unique()"
   ]
  },
  {
   "cell_type": "markdown",
   "metadata": {},
   "source": [
    "3 - Self employed "
   ]
  },
  {
   "cell_type": "code",
   "execution_count": 164,
   "metadata": {},
   "outputs": [
    {
     "data": {
      "text/plain": [
       "array([nan, 'Yes', 'No'], dtype=object)"
      ]
     },
     "execution_count": 164,
     "metadata": {},
     "output_type": "execute_result"
    }
   ],
   "source": [
    "df_clean['self_employed'].unique()"
   ]
  },
  {
   "cell_type": "code",
   "execution_count": 165,
   "metadata": {},
   "outputs": [
    {
     "data": {
      "text/plain": [
       "array([nan, 1, 0], dtype=object)"
      ]
     },
     "execution_count": 165,
     "metadata": {},
     "output_type": "execute_result"
    }
   ],
   "source": [
    "\n",
    "df_clean.loc[df_clean['self_employed'].notnull(), 'self_employed'] = le.fit_transform(df_clean.loc[df_clean['self_employed'].notnull(), 'self_employed'])\n",
    "\n",
    "# Check the unique values in the 'work_interfere' column\n",
    "df_clean['self_employed'].unique()\n"
   ]
  },
  {
   "cell_type": "markdown",
   "metadata": {},
   "source": [
    "4 - family history"
   ]
  },
  {
   "cell_type": "code",
   "execution_count": 166,
   "metadata": {},
   "outputs": [
    {
     "data": {
      "text/plain": [
       "array(['No', 'Yes'], dtype=object)"
      ]
     },
     "execution_count": 166,
     "metadata": {},
     "output_type": "execute_result"
    }
   ],
   "source": [
    "df_clean['family_history'].unique()"
   ]
  },
  {
   "cell_type": "code",
   "execution_count": 167,
   "metadata": {},
   "outputs": [
    {
     "name": "stderr",
     "output_type": "stream",
     "text": [
      "/var/folders/rr/62tz31v139gdkk0h36fmvq240000gn/T/ipykernel_21124/200455930.py:1: SettingWithCopyWarning: \n",
      "A value is trying to be set on a copy of a slice from a DataFrame.\n",
      "Try using .loc[row_indexer,col_indexer] = value instead\n",
      "\n",
      "See the caveats in the documentation: https://pandas.pydata.org/pandas-docs/stable/user_guide/indexing.html#returning-a-view-versus-a-copy\n",
      "  df_clean['family_history'] = le.fit_transform(df_clean['family_history'])\n"
     ]
    },
    {
     "data": {
      "text/plain": [
       "array([0, 1])"
      ]
     },
     "execution_count": 167,
     "metadata": {},
     "output_type": "execute_result"
    }
   ],
   "source": [
    "df_clean['family_history'] = le.fit_transform(df_clean['family_history'])\n",
    "df_clean['family_history'].unique()"
   ]
  },
  {
   "cell_type": "markdown",
   "metadata": {},
   "source": [
    "5 - Country "
   ]
  },
  {
   "cell_type": "code",
   "execution_count": 168,
   "metadata": {},
   "outputs": [
    {
     "data": {
      "text/plain": [
       "array(['United States', 'Canada', 'United Kingdom', 'Bulgaria', 'France',\n",
       "       'Portugal', 'Netherlands', 'Switzerland', 'Poland', 'Australia',\n",
       "       'Germany', 'Russia', 'Mexico', 'Brazil', 'Slovenia', 'Costa Rica',\n",
       "       'Austria', 'Ireland', 'India', 'South Africa', 'Italy', 'Sweden',\n",
       "       'Colombia', 'Latvia', 'Romania', 'Belgium', 'New Zealand', 'Spain',\n",
       "       'Finland', 'Uruguay', 'Israel', 'Bosnia and Herzegovina',\n",
       "       'Hungary', 'Singapore', 'Japan', 'Nigeria', 'Croatia', 'Norway',\n",
       "       'Thailand', 'Denmark', 'Greece', 'Moldova', 'Georgia', 'China',\n",
       "       'Czech Republic', 'Philippines'], dtype=object)"
      ]
     },
     "execution_count": 168,
     "metadata": {},
     "output_type": "execute_result"
    }
   ],
   "source": [
    "df_clean['Country'].unique()"
   ]
  },
  {
   "cell_type": "code",
   "execution_count": 169,
   "metadata": {},
   "outputs": [
    {
     "name": "stderr",
     "output_type": "stream",
     "text": [
      "/var/folders/rr/62tz31v139gdkk0h36fmvq240000gn/T/ipykernel_21124/2555295537.py:1: SettingWithCopyWarning: \n",
      "A value is trying to be set on a copy of a slice from a DataFrame.\n",
      "Try using .loc[row_indexer,col_indexer] = value instead\n",
      "\n",
      "See the caveats in the documentation: https://pandas.pydata.org/pandas-docs/stable/user_guide/indexing.html#returning-a-view-versus-a-copy\n",
      "  df_clean['Country'] = le.fit_transform(df_clean['Country'])\n"
     ]
    },
    {
     "data": {
      "text/plain": [
       "array([44,  6, 43,  5, 14, 33, 27, 41, 32,  0, 16, 35, 25,  4, 37,  9,  1,\n",
       "       20, 19, 38, 22, 40,  8, 24, 34,  2, 28, 39, 13, 45, 21,  3, 18, 36,\n",
       "       23, 29, 10, 30, 42, 12, 17, 26, 15,  7, 11, 31])"
      ]
     },
     "execution_count": 169,
     "metadata": {},
     "output_type": "execute_result"
    }
   ],
   "source": [
    "df_clean['Country'] = le.fit_transform(df_clean['Country'])\n",
    "df_clean['Country'].unique()"
   ]
  },
  {
   "cell_type": "markdown",
   "metadata": {},
   "source": [
    "6 - Treatment"
   ]
  },
  {
   "cell_type": "code",
   "execution_count": 170,
   "metadata": {},
   "outputs": [
    {
     "data": {
      "text/plain": [
       "array(['Yes', 'No'], dtype=object)"
      ]
     },
     "execution_count": 170,
     "metadata": {},
     "output_type": "execute_result"
    }
   ],
   "source": [
    "df_clean['treatment'].unique()"
   ]
  },
  {
   "cell_type": "code",
   "execution_count": 171,
   "metadata": {},
   "outputs": [
    {
     "name": "stderr",
     "output_type": "stream",
     "text": [
      "/var/folders/rr/62tz31v139gdkk0h36fmvq240000gn/T/ipykernel_21124/4281228604.py:1: SettingWithCopyWarning: \n",
      "A value is trying to be set on a copy of a slice from a DataFrame.\n",
      "Try using .loc[row_indexer,col_indexer] = value instead\n",
      "\n",
      "See the caveats in the documentation: https://pandas.pydata.org/pandas-docs/stable/user_guide/indexing.html#returning-a-view-versus-a-copy\n",
      "  df_clean['treatment'] = le.fit_transform(df_clean['treatment'])\n"
     ]
    },
    {
     "data": {
      "text/plain": [
       "array([1, 0])"
      ]
     },
     "execution_count": 171,
     "metadata": {},
     "output_type": "execute_result"
    }
   ],
   "source": [
    "df_clean['treatment'] = le.fit_transform(df_clean['treatment'])\n",
    "df_clean['treatment'].unique()"
   ]
  },
  {
   "cell_type": "markdown",
   "metadata": {},
   "source": [
    "7 - no_employees                  "
   ]
  },
  {
   "cell_type": "code",
   "execution_count": 172,
   "metadata": {},
   "outputs": [
    {
     "data": {
      "text/plain": [
       "array(['6-25', 'More than 1000', '26-100', '100-500', '1-5', '500-1000'],\n",
       "      dtype=object)"
      ]
     },
     "execution_count": 172,
     "metadata": {},
     "output_type": "execute_result"
    }
   ],
   "source": [
    "df_clean['no_employees'].unique()"
   ]
  },
  {
   "cell_type": "code",
   "execution_count": 173,
   "metadata": {},
   "outputs": [
    {
     "name": "stderr",
     "output_type": "stream",
     "text": [
      "/var/folders/rr/62tz31v139gdkk0h36fmvq240000gn/T/ipykernel_21124/3159229882.py:2: SettingWithCopyWarning: \n",
      "A value is trying to be set on a copy of a slice from a DataFrame.\n",
      "Try using .loc[row_indexer,col_indexer] = value instead\n",
      "\n",
      "See the caveats in the documentation: https://pandas.pydata.org/pandas-docs/stable/user_guide/indexing.html#returning-a-view-versus-a-copy\n",
      "  df_clean['no_employees'] = le.fit_transform(df_clean['no_employees'])\n"
     ]
    },
    {
     "data": {
      "text/plain": [
       "array([4, 5, 2, 1, 0, 3])"
      ]
     },
     "execution_count": 173,
     "metadata": {},
     "output_type": "execute_result"
    }
   ],
   "source": [
    "# fit and transform the 'no_employees' column\n",
    "df_clean['no_employees'] = le.fit_transform(df_clean['no_employees'])\n",
    "df_clean['no_employees'].unique()"
   ]
  },
  {
   "cell_type": "markdown",
   "metadata": {},
   "source": [
    "8 - remote_work                   "
   ]
  },
  {
   "cell_type": "code",
   "execution_count": 174,
   "metadata": {},
   "outputs": [
    {
     "data": {
      "text/plain": [
       "array(['No', 'Yes'], dtype=object)"
      ]
     },
     "execution_count": 174,
     "metadata": {},
     "output_type": "execute_result"
    }
   ],
   "source": [
    "df_clean['remote_work'].unique()"
   ]
  },
  {
   "cell_type": "code",
   "execution_count": 175,
   "metadata": {},
   "outputs": [
    {
     "name": "stderr",
     "output_type": "stream",
     "text": [
      "/var/folders/rr/62tz31v139gdkk0h36fmvq240000gn/T/ipykernel_21124/1014869372.py:1: SettingWithCopyWarning: \n",
      "A value is trying to be set on a copy of a slice from a DataFrame.\n",
      "Try using .loc[row_indexer,col_indexer] = value instead\n",
      "\n",
      "See the caveats in the documentation: https://pandas.pydata.org/pandas-docs/stable/user_guide/indexing.html#returning-a-view-versus-a-copy\n",
      "  df_clean['remote_work'] = le.fit_transform(df_clean['remote_work'])\n"
     ]
    },
    {
     "data": {
      "text/plain": [
       "array([0, 1])"
      ]
     },
     "execution_count": 175,
     "metadata": {},
     "output_type": "execute_result"
    }
   ],
   "source": [
    "df_clean['remote_work'] = le.fit_transform(df_clean['remote_work'])\n",
    "df_clean['remote_work'].unique()"
   ]
  },
  {
   "cell_type": "markdown",
   "metadata": {},
   "source": [
    "9 - tech_company                  "
   ]
  },
  {
   "cell_type": "code",
   "execution_count": 176,
   "metadata": {},
   "outputs": [
    {
     "data": {
      "text/plain": [
       "array(['Yes', 'No'], dtype=object)"
      ]
     },
     "execution_count": 176,
     "metadata": {},
     "output_type": "execute_result"
    }
   ],
   "source": [
    "df_clean['tech_company'].unique()"
   ]
  },
  {
   "cell_type": "code",
   "execution_count": 177,
   "metadata": {},
   "outputs": [
    {
     "name": "stderr",
     "output_type": "stream",
     "text": [
      "/var/folders/rr/62tz31v139gdkk0h36fmvq240000gn/T/ipykernel_21124/3229739187.py:1: SettingWithCopyWarning: \n",
      "A value is trying to be set on a copy of a slice from a DataFrame.\n",
      "Try using .loc[row_indexer,col_indexer] = value instead\n",
      "\n",
      "See the caveats in the documentation: https://pandas.pydata.org/pandas-docs/stable/user_guide/indexing.html#returning-a-view-versus-a-copy\n",
      "  df_clean['tech_company'] = le.fit_transform(df_clean['tech_company'])\n"
     ]
    },
    {
     "data": {
      "text/plain": [
       "array([1, 0])"
      ]
     },
     "execution_count": 177,
     "metadata": {},
     "output_type": "execute_result"
    }
   ],
   "source": [
    "df_clean['tech_company'] = le.fit_transform(df_clean['tech_company'])\n",
    "df_clean['tech_company'].unique()"
   ]
  },
  {
   "cell_type": "markdown",
   "metadata": {},
   "source": [
    "10 - benefits                      "
   ]
  },
  {
   "cell_type": "code",
   "execution_count": 178,
   "metadata": {},
   "outputs": [
    {
     "data": {
      "text/plain": [
       "array(['Yes', \"Don't know\", 'No'], dtype=object)"
      ]
     },
     "execution_count": 178,
     "metadata": {},
     "output_type": "execute_result"
    }
   ],
   "source": [
    "df_clean['benefits'].unique()"
   ]
  },
  {
   "cell_type": "code",
   "execution_count": 179,
   "metadata": {},
   "outputs": [
    {
     "name": "stderr",
     "output_type": "stream",
     "text": [
      "/var/folders/rr/62tz31v139gdkk0h36fmvq240000gn/T/ipykernel_21124/2953674779.py:1: SettingWithCopyWarning: \n",
      "A value is trying to be set on a copy of a slice from a DataFrame.\n",
      "Try using .loc[row_indexer,col_indexer] = value instead\n",
      "\n",
      "See the caveats in the documentation: https://pandas.pydata.org/pandas-docs/stable/user_guide/indexing.html#returning-a-view-versus-a-copy\n",
      "  df_clean['benefits'] = le.fit_transform(df_clean['benefits'])\n"
     ]
    },
    {
     "data": {
      "text/plain": [
       "array([2, 0, 1])"
      ]
     },
     "execution_count": 179,
     "metadata": {},
     "output_type": "execute_result"
    }
   ],
   "source": [
    "df_clean['benefits'] = le.fit_transform(df_clean['benefits'])\n",
    "df_clean['benefits'].unique()"
   ]
  },
  {
   "cell_type": "markdown",
   "metadata": {},
   "source": [
    "11 - care_options                  "
   ]
  },
  {
   "cell_type": "code",
   "execution_count": 180,
   "metadata": {},
   "outputs": [
    {
     "data": {
      "text/plain": [
       "array(['Not sure', 'No', 'Yes'], dtype=object)"
      ]
     },
     "execution_count": 180,
     "metadata": {},
     "output_type": "execute_result"
    }
   ],
   "source": [
    "df_clean['care_options'].unique()"
   ]
  },
  {
   "cell_type": "code",
   "execution_count": 181,
   "metadata": {},
   "outputs": [
    {
     "name": "stderr",
     "output_type": "stream",
     "text": [
      "/var/folders/rr/62tz31v139gdkk0h36fmvq240000gn/T/ipykernel_21124/1475071428.py:1: SettingWithCopyWarning: \n",
      "A value is trying to be set on a copy of a slice from a DataFrame.\n",
      "Try using .loc[row_indexer,col_indexer] = value instead\n",
      "\n",
      "See the caveats in the documentation: https://pandas.pydata.org/pandas-docs/stable/user_guide/indexing.html#returning-a-view-versus-a-copy\n",
      "  df_clean['care_options'] = le.fit_transform(df_clean['care_options'])\n"
     ]
    },
    {
     "data": {
      "text/plain": [
       "array([1, 0, 2])"
      ]
     },
     "execution_count": 181,
     "metadata": {},
     "output_type": "execute_result"
    }
   ],
   "source": [
    "df_clean['care_options'] = le.fit_transform(df_clean['care_options'])\n",
    "df_clean['care_options'].unique()"
   ]
  },
  {
   "cell_type": "markdown",
   "metadata": {},
   "source": [
    "12 - wellness_program              \n"
   ]
  },
  {
   "cell_type": "code",
   "execution_count": 182,
   "metadata": {},
   "outputs": [
    {
     "data": {
      "text/plain": [
       "array(['No', \"Don't know\", 'Yes'], dtype=object)"
      ]
     },
     "execution_count": 182,
     "metadata": {},
     "output_type": "execute_result"
    }
   ],
   "source": [
    "df_clean['wellness_program'].unique()"
   ]
  },
  {
   "cell_type": "code",
   "execution_count": 183,
   "metadata": {},
   "outputs": [
    {
     "name": "stderr",
     "output_type": "stream",
     "text": [
      "/var/folders/rr/62tz31v139gdkk0h36fmvq240000gn/T/ipykernel_21124/2650442787.py:1: SettingWithCopyWarning: \n",
      "A value is trying to be set on a copy of a slice from a DataFrame.\n",
      "Try using .loc[row_indexer,col_indexer] = value instead\n",
      "\n",
      "See the caveats in the documentation: https://pandas.pydata.org/pandas-docs/stable/user_guide/indexing.html#returning-a-view-versus-a-copy\n",
      "  df_clean['wellness_program'] = le.fit_transform(df_clean['wellness_program'])\n"
     ]
    }
   ],
   "source": [
    "df_clean['wellness_program'] = le.fit_transform(df_clean['wellness_program'])"
   ]
  },
  {
   "cell_type": "markdown",
   "metadata": {},
   "source": [
    "13 - seek_help                     \n"
   ]
  },
  {
   "cell_type": "code",
   "execution_count": 184,
   "metadata": {},
   "outputs": [
    {
     "data": {
      "text/plain": [
       "array(['Yes', \"Don't know\", 'No'], dtype=object)"
      ]
     },
     "execution_count": 184,
     "metadata": {},
     "output_type": "execute_result"
    }
   ],
   "source": [
    "df_clean['seek_help'].unique()"
   ]
  },
  {
   "cell_type": "code",
   "execution_count": 185,
   "metadata": {},
   "outputs": [
    {
     "name": "stderr",
     "output_type": "stream",
     "text": [
      "/var/folders/rr/62tz31v139gdkk0h36fmvq240000gn/T/ipykernel_21124/1170463923.py:1: SettingWithCopyWarning: \n",
      "A value is trying to be set on a copy of a slice from a DataFrame.\n",
      "Try using .loc[row_indexer,col_indexer] = value instead\n",
      "\n",
      "See the caveats in the documentation: https://pandas.pydata.org/pandas-docs/stable/user_guide/indexing.html#returning-a-view-versus-a-copy\n",
      "  df_clean['seek_help'] = le.fit_transform(df_clean['seek_help'])\n"
     ]
    },
    {
     "data": {
      "text/plain": [
       "array([2, 0, 1])"
      ]
     },
     "execution_count": 185,
     "metadata": {},
     "output_type": "execute_result"
    }
   ],
   "source": [
    "df_clean['seek_help'] = le.fit_transform(df_clean['seek_help'])\n",
    "df_clean['seek_help'].unique()"
   ]
  },
  {
   "cell_type": "markdown",
   "metadata": {},
   "source": [
    "14 - anonymity                     \n"
   ]
  },
  {
   "cell_type": "code",
   "execution_count": 186,
   "metadata": {},
   "outputs": [
    {
     "data": {
      "text/plain": [
       "array(['Yes', \"Don't know\", 'No'], dtype=object)"
      ]
     },
     "execution_count": 186,
     "metadata": {},
     "output_type": "execute_result"
    }
   ],
   "source": [
    "df_clean['anonymity'].unique()"
   ]
  },
  {
   "cell_type": "code",
   "execution_count": 187,
   "metadata": {},
   "outputs": [
    {
     "name": "stderr",
     "output_type": "stream",
     "text": [
      "/var/folders/rr/62tz31v139gdkk0h36fmvq240000gn/T/ipykernel_21124/3772412165.py:1: SettingWithCopyWarning: \n",
      "A value is trying to be set on a copy of a slice from a DataFrame.\n",
      "Try using .loc[row_indexer,col_indexer] = value instead\n",
      "\n",
      "See the caveats in the documentation: https://pandas.pydata.org/pandas-docs/stable/user_guide/indexing.html#returning-a-view-versus-a-copy\n",
      "  df_clean['anonymity'] = le.fit_transform(df_clean['anonymity'])\n"
     ]
    },
    {
     "data": {
      "text/plain": [
       "array([2, 0, 1])"
      ]
     },
     "execution_count": 187,
     "metadata": {},
     "output_type": "execute_result"
    }
   ],
   "source": [
    "df_clean['anonymity'] = le.fit_transform(df_clean['anonymity'])\n",
    "df_clean['anonymity'].unique()"
   ]
  },
  {
   "cell_type": "markdown",
   "metadata": {},
   "source": [
    "15 - leave                         \n"
   ]
  },
  {
   "cell_type": "code",
   "execution_count": 188,
   "metadata": {},
   "outputs": [
    {
     "data": {
      "text/plain": [
       "array(['Somewhat easy', \"Don't know\", 'Somewhat difficult',\n",
       "       'Very difficult', 'Very easy'], dtype=object)"
      ]
     },
     "execution_count": 188,
     "metadata": {},
     "output_type": "execute_result"
    }
   ],
   "source": [
    "df_clean['leave'].unique()"
   ]
  },
  {
   "cell_type": "code",
   "execution_count": 189,
   "metadata": {},
   "outputs": [
    {
     "name": "stderr",
     "output_type": "stream",
     "text": [
      "/var/folders/rr/62tz31v139gdkk0h36fmvq240000gn/T/ipykernel_21124/3159690820.py:1: SettingWithCopyWarning: \n",
      "A value is trying to be set on a copy of a slice from a DataFrame.\n",
      "Try using .loc[row_indexer,col_indexer] = value instead\n",
      "\n",
      "See the caveats in the documentation: https://pandas.pydata.org/pandas-docs/stable/user_guide/indexing.html#returning-a-view-versus-a-copy\n",
      "  df_clean['leave'] = le.fit_transform(df_clean['leave'])\n"
     ]
    },
    {
     "data": {
      "text/plain": [
       "array([2, 0, 1, 3, 4])"
      ]
     },
     "execution_count": 189,
     "metadata": {},
     "output_type": "execute_result"
    }
   ],
   "source": [
    "df_clean['leave'] = le.fit_transform(df_clean['leave'])\n",
    "df_clean['leave'].unique()"
   ]
  },
  {
   "cell_type": "markdown",
   "metadata": {},
   "source": [
    "16 - mental_health_consequence     \n"
   ]
  },
  {
   "cell_type": "code",
   "execution_count": 190,
   "metadata": {},
   "outputs": [
    {
     "data": {
      "text/plain": [
       "array(['No', 'Maybe', 'Yes'], dtype=object)"
      ]
     },
     "execution_count": 190,
     "metadata": {},
     "output_type": "execute_result"
    }
   ],
   "source": [
    "df_clean['mental_health_consequence'].unique()"
   ]
  },
  {
   "cell_type": "code",
   "execution_count": 191,
   "metadata": {},
   "outputs": [
    {
     "name": "stderr",
     "output_type": "stream",
     "text": [
      "/var/folders/rr/62tz31v139gdkk0h36fmvq240000gn/T/ipykernel_21124/1804768319.py:1: SettingWithCopyWarning: \n",
      "A value is trying to be set on a copy of a slice from a DataFrame.\n",
      "Try using .loc[row_indexer,col_indexer] = value instead\n",
      "\n",
      "See the caveats in the documentation: https://pandas.pydata.org/pandas-docs/stable/user_guide/indexing.html#returning-a-view-versus-a-copy\n",
      "  df_clean['mental_health_consequence'] = le.fit_transform(df_clean['mental_health_consequence'])\n"
     ]
    },
    {
     "data": {
      "text/plain": [
       "array([1, 0, 2])"
      ]
     },
     "execution_count": 191,
     "metadata": {},
     "output_type": "execute_result"
    }
   ],
   "source": [
    "df_clean['mental_health_consequence'] = le.fit_transform(df_clean['mental_health_consequence'])\n",
    "df_clean['mental_health_consequence'].unique()"
   ]
  },
  {
   "cell_type": "markdown",
   "metadata": {},
   "source": [
    "17 - phys_health_consequence      "
   ]
  },
  {
   "cell_type": "code",
   "execution_count": 192,
   "metadata": {},
   "outputs": [
    {
     "data": {
      "text/plain": [
       "array(['No', 'Yes', 'Maybe'], dtype=object)"
      ]
     },
     "execution_count": 192,
     "metadata": {},
     "output_type": "execute_result"
    }
   ],
   "source": [
    "df_clean['phys_health_consequence'].unique()"
   ]
  },
  {
   "cell_type": "code",
   "execution_count": 193,
   "metadata": {},
   "outputs": [
    {
     "name": "stderr",
     "output_type": "stream",
     "text": [
      "/var/folders/rr/62tz31v139gdkk0h36fmvq240000gn/T/ipykernel_21124/3962114245.py:1: SettingWithCopyWarning: \n",
      "A value is trying to be set on a copy of a slice from a DataFrame.\n",
      "Try using .loc[row_indexer,col_indexer] = value instead\n",
      "\n",
      "See the caveats in the documentation: https://pandas.pydata.org/pandas-docs/stable/user_guide/indexing.html#returning-a-view-versus-a-copy\n",
      "  df_clean['phys_health_consequence'] = le.fit_transform(df_clean['phys_health_consequence'])\n"
     ]
    },
    {
     "data": {
      "text/plain": [
       "array([1, 2, 0])"
      ]
     },
     "execution_count": 193,
     "metadata": {},
     "output_type": "execute_result"
    }
   ],
   "source": [
    "df_clean['phys_health_consequence'] = le.fit_transform(df_clean['phys_health_consequence'])\n",
    "df_clean['phys_health_consequence'].unique()"
   ]
  },
  {
   "cell_type": "markdown",
   "metadata": {},
   "source": [
    "18 - coworkers                     "
   ]
  },
  {
   "cell_type": "code",
   "execution_count": 194,
   "metadata": {},
   "outputs": [
    {
     "data": {
      "text/plain": [
       "array(['Some of them', 'No', 'Yes'], dtype=object)"
      ]
     },
     "execution_count": 194,
     "metadata": {},
     "output_type": "execute_result"
    }
   ],
   "source": [
    "df_clean['coworkers'].unique()"
   ]
  },
  {
   "cell_type": "code",
   "execution_count": 195,
   "metadata": {},
   "outputs": [
    {
     "name": "stderr",
     "output_type": "stream",
     "text": [
      "/var/folders/rr/62tz31v139gdkk0h36fmvq240000gn/T/ipykernel_21124/3371294665.py:1: SettingWithCopyWarning: \n",
      "A value is trying to be set on a copy of a slice from a DataFrame.\n",
      "Try using .loc[row_indexer,col_indexer] = value instead\n",
      "\n",
      "See the caveats in the documentation: https://pandas.pydata.org/pandas-docs/stable/user_guide/indexing.html#returning-a-view-versus-a-copy\n",
      "  df_clean['coworkers'] = le.fit_transform(df_clean['coworkers'])\n"
     ]
    },
    {
     "data": {
      "text/plain": [
       "array([1, 0, 2])"
      ]
     },
     "execution_count": 195,
     "metadata": {},
     "output_type": "execute_result"
    }
   ],
   "source": [
    "df_clean['coworkers'] = le.fit_transform(df_clean['coworkers'])\n",
    "df_clean['coworkers'].unique()"
   ]
  },
  {
   "cell_type": "markdown",
   "metadata": {},
   "source": [
    "19 - supervisor                    \n"
   ]
  },
  {
   "cell_type": "code",
   "execution_count": 196,
   "metadata": {},
   "outputs": [
    {
     "data": {
      "text/plain": [
       "array(['Yes', 'No', 'Some of them'], dtype=object)"
      ]
     },
     "execution_count": 196,
     "metadata": {},
     "output_type": "execute_result"
    }
   ],
   "source": [
    "df_clean['supervisor'].unique()"
   ]
  },
  {
   "cell_type": "code",
   "execution_count": 197,
   "metadata": {},
   "outputs": [
    {
     "name": "stderr",
     "output_type": "stream",
     "text": [
      "/var/folders/rr/62tz31v139gdkk0h36fmvq240000gn/T/ipykernel_21124/4019265957.py:1: SettingWithCopyWarning: \n",
      "A value is trying to be set on a copy of a slice from a DataFrame.\n",
      "Try using .loc[row_indexer,col_indexer] = value instead\n",
      "\n",
      "See the caveats in the documentation: https://pandas.pydata.org/pandas-docs/stable/user_guide/indexing.html#returning-a-view-versus-a-copy\n",
      "  df_clean['supervisor'] = le.fit_transform(df_clean['supervisor'])\n"
     ]
    },
    {
     "data": {
      "text/plain": [
       "array([2, 0, 1])"
      ]
     },
     "execution_count": 197,
     "metadata": {},
     "output_type": "execute_result"
    }
   ],
   "source": [
    "df_clean['supervisor'] = le.fit_transform(df_clean['supervisor'])\n",
    "df_clean['supervisor'].unique()"
   ]
  },
  {
   "cell_type": "markdown",
   "metadata": {},
   "source": [
    "20 - mental_health_interview      \n"
   ]
  },
  {
   "cell_type": "code",
   "execution_count": 198,
   "metadata": {},
   "outputs": [
    {
     "data": {
      "text/plain": [
       "array(['No', 'Yes', 'Maybe'], dtype=object)"
      ]
     },
     "execution_count": 198,
     "metadata": {},
     "output_type": "execute_result"
    }
   ],
   "source": [
    "df_clean['mental_health_interview'].unique()"
   ]
  },
  {
   "cell_type": "code",
   "execution_count": 199,
   "metadata": {},
   "outputs": [
    {
     "name": "stderr",
     "output_type": "stream",
     "text": [
      "/var/folders/rr/62tz31v139gdkk0h36fmvq240000gn/T/ipykernel_21124/2333185123.py:1: SettingWithCopyWarning: \n",
      "A value is trying to be set on a copy of a slice from a DataFrame.\n",
      "Try using .loc[row_indexer,col_indexer] = value instead\n",
      "\n",
      "See the caveats in the documentation: https://pandas.pydata.org/pandas-docs/stable/user_guide/indexing.html#returning-a-view-versus-a-copy\n",
      "  df_clean['mental_health_interview'] = le.fit_transform(df_clean['mental_health_interview'])\n"
     ]
    },
    {
     "data": {
      "text/plain": [
       "array([1, 2, 0])"
      ]
     },
     "execution_count": 199,
     "metadata": {},
     "output_type": "execute_result"
    }
   ],
   "source": [
    "df_clean['mental_health_interview'] = le.fit_transform(df_clean['mental_health_interview'])\n",
    "df_clean['mental_health_interview'].unique()"
   ]
  },
  {
   "cell_type": "markdown",
   "metadata": {},
   "source": [
    "21 - phys_health_interview        "
   ]
  },
  {
   "cell_type": "code",
   "execution_count": 200,
   "metadata": {},
   "outputs": [
    {
     "data": {
      "text/plain": [
       "array(['Maybe', 'No', 'Yes'], dtype=object)"
      ]
     },
     "execution_count": 200,
     "metadata": {},
     "output_type": "execute_result"
    }
   ],
   "source": [
    "df_clean['phys_health_interview'].unique()"
   ]
  },
  {
   "cell_type": "code",
   "execution_count": 201,
   "metadata": {},
   "outputs": [
    {
     "name": "stderr",
     "output_type": "stream",
     "text": [
      "/var/folders/rr/62tz31v139gdkk0h36fmvq240000gn/T/ipykernel_21124/672360552.py:1: SettingWithCopyWarning: \n",
      "A value is trying to be set on a copy of a slice from a DataFrame.\n",
      "Try using .loc[row_indexer,col_indexer] = value instead\n",
      "\n",
      "See the caveats in the documentation: https://pandas.pydata.org/pandas-docs/stable/user_guide/indexing.html#returning-a-view-versus-a-copy\n",
      "  df_clean['phys_health_interview'] = le.fit_transform(df_clean['phys_health_interview'])\n"
     ]
    },
    {
     "data": {
      "text/plain": [
       "array([0, 1, 2])"
      ]
     },
     "execution_count": 201,
     "metadata": {},
     "output_type": "execute_result"
    }
   ],
   "source": [
    "df_clean['phys_health_interview'] = le.fit_transform(df_clean['phys_health_interview'])\n",
    "df_clean['phys_health_interview'].unique()"
   ]
  },
  {
   "cell_type": "markdown",
   "metadata": {},
   "source": [
    "22 - mental_vs_physical            \n"
   ]
  },
  {
   "cell_type": "code",
   "execution_count": 202,
   "metadata": {},
   "outputs": [
    {
     "data": {
      "text/plain": [
       "array(['Yes', \"Don't know\", 'No'], dtype=object)"
      ]
     },
     "execution_count": 202,
     "metadata": {},
     "output_type": "execute_result"
    }
   ],
   "source": [
    "df_clean['mental_vs_physical'].unique()"
   ]
  },
  {
   "cell_type": "code",
   "execution_count": 203,
   "metadata": {},
   "outputs": [
    {
     "name": "stderr",
     "output_type": "stream",
     "text": [
      "/var/folders/rr/62tz31v139gdkk0h36fmvq240000gn/T/ipykernel_21124/1620546154.py:1: SettingWithCopyWarning: \n",
      "A value is trying to be set on a copy of a slice from a DataFrame.\n",
      "Try using .loc[row_indexer,col_indexer] = value instead\n",
      "\n",
      "See the caveats in the documentation: https://pandas.pydata.org/pandas-docs/stable/user_guide/indexing.html#returning-a-view-versus-a-copy\n",
      "  df_clean['mental_vs_physical'] = le.fit_transform(df_clean['mental_vs_physical'])\n"
     ]
    },
    {
     "data": {
      "text/plain": [
       "array([2, 0, 1])"
      ]
     },
     "execution_count": 203,
     "metadata": {},
     "output_type": "execute_result"
    }
   ],
   "source": [
    "df_clean['mental_vs_physical'] = le.fit_transform(df_clean['mental_vs_physical'])\n",
    "df_clean['mental_vs_physical'].unique()"
   ]
  },
  {
   "cell_type": "markdown",
   "metadata": {},
   "source": [
    "23 - obs_consequence "
   ]
  },
  {
   "cell_type": "code",
   "execution_count": 204,
   "metadata": {},
   "outputs": [
    {
     "data": {
      "text/plain": [
       "array(['No', 'Yes'], dtype=object)"
      ]
     },
     "execution_count": 204,
     "metadata": {},
     "output_type": "execute_result"
    }
   ],
   "source": [
    "df_clean['obs_consequence'].unique()"
   ]
  },
  {
   "cell_type": "code",
   "execution_count": 205,
   "metadata": {},
   "outputs": [
    {
     "name": "stderr",
     "output_type": "stream",
     "text": [
      "/var/folders/rr/62tz31v139gdkk0h36fmvq240000gn/T/ipykernel_21124/2135739759.py:1: SettingWithCopyWarning: \n",
      "A value is trying to be set on a copy of a slice from a DataFrame.\n",
      "Try using .loc[row_indexer,col_indexer] = value instead\n",
      "\n",
      "See the caveats in the documentation: https://pandas.pydata.org/pandas-docs/stable/user_guide/indexing.html#returning-a-view-versus-a-copy\n",
      "  df_clean['obs_consequence'] = le.fit_transform(df_clean['obs_consequence'])\n"
     ]
    },
    {
     "data": {
      "text/plain": [
       "array([0, 1])"
      ]
     },
     "execution_count": 205,
     "metadata": {},
     "output_type": "execute_result"
    }
   ],
   "source": [
    "df_clean['obs_consequence'] = le.fit_transform(df_clean['obs_consequence'])\n",
    "df_clean['obs_consequence'].unique()"
   ]
  },
  {
   "cell_type": "markdown",
   "metadata": {},
   "source": [
    "##### Filling the missing data"
   ]
  },
  {
   "cell_type": "markdown",
   "metadata": {},
   "source": [
    "1. Work interfere"
   ]
  },
  {
   "cell_type": "code",
   "execution_count": 206,
   "metadata": {},
   "outputs": [],
   "source": [
    "# df_clean['work_interfere'] = df_clean['work_interfere'].fillna(df_clean['work_interfere'].median())\n",
    "# df_clean[\"work_interfere\"].unique()"
   ]
  },
  {
   "cell_type": "code",
   "execution_count": 207,
   "metadata": {},
   "outputs": [],
   "source": [
    "# from sklearn.linear_model import LinearRegression\n",
    "\n",
    "# lr = LinearRegression()\n",
    "# df_clean.head()\n",
    "# null_values = df_clean[df_clean['work_interfere'].isnull()==True]\n",
    "# traindf = df_clean.dropna()\n",
    "# y = traindf['work_interfere']\n",
    "# traindf.drop(\"work_interfere\",axis=1,inplace=True)\n",
    "# lr.fit(traindf,y)\n",
    "# null_values.drop(\"work_interfere\",axis=1,inplace=True)\n",
    "# pred = lr.predict(null_values)\n",
    "# null_values['work_interfere']= pred\n",
    "# df_clean[df_clean['work_interfere'].isnull()==True] = null_values"
   ]
  },
  {
   "cell_type": "code",
   "execution_count": 208,
   "metadata": {},
   "outputs": [],
   "source": [
    "from sklearn.linear_model import LinearRegression\n",
    "\n",
    "\n",
    "# Separate columns with missing values from those without missing values\n",
    "missing_cols = ['work_interfere', 'self_employed']\n",
    "other_cols = [col for col in df_clean.columns if col not in missing_cols]\n",
    "\n",
    "# Create a linear regression model for each missing column\n",
    "for col in missing_cols:\n",
    "    # Split the data into training and test sets\n",
    "    train_data = df_clean.dropna(subset=[col] + other_cols)\n",
    "    test_data = df_clean[df_clean[col].isna()].drop(col, axis=1)\n",
    "    test_data = test_data[other_cols] # Add missing feature column\n",
    "    \n",
    "    # Create the linear regression object\n",
    "    reg = LinearRegression()\n",
    "    \n",
    "    # Fit the model to the training data\n",
    "    reg.fit(train_data[other_cols], train_data[col])\n",
    "    \n",
    "    # Predict the missing values\n",
    "    df_clean.loc[df_clean[col].isna(), col] = reg.predict(test_data)\n"
   ]
  },
  {
   "cell_type": "markdown",
   "metadata": {},
   "source": [
    "2. Self employed"
   ]
  },
  {
   "cell_type": "code",
   "execution_count": 209,
   "metadata": {},
   "outputs": [],
   "source": [
    "# df_clean['self_employed'] = df_clean['self_employed'].fillna(df_clean['self_employed'].median())\n",
    "# df_clean['self_employed'].unique()"
   ]
  },
  {
   "cell_type": "code",
   "execution_count": 210,
   "metadata": {},
   "outputs": [],
   "source": [
    "\n",
    "# lr = LinearRegression()\n",
    "# df_clean.head()\n",
    "# testdf = df_clean[df_clean['self_employed'].isnull()==True]\n",
    "# traindf = df_clean.dropna()\n",
    "# y = traindf['self_employed']\n",
    "# traindf.drop(\"self_employed\",axis=1,inplace=True)\n",
    "# lr.fit(traindf,y)\n",
    "# testdf.drop(\"self_employed\",axis=1,inplace=True)\n",
    "# pred = lr.predict(testdf)\n",
    "# testdf['self_employed']= pred\n",
    "# df_clean[df_clean['self_employed'].isnull()==True] = testdf"
   ]
  },
  {
   "cell_type": "markdown",
   "metadata": {},
   "source": [
    "### Explore and visualize data : exploratory data analysis (EDA)\n"
   ]
  },
  {
   "cell_type": "code",
   "execution_count": 211,
   "metadata": {},
   "outputs": [
    {
     "data": {
      "text/html": [
       "<div>\n",
       "<style scoped>\n",
       "    .dataframe tbody tr th:only-of-type {\n",
       "        vertical-align: middle;\n",
       "    }\n",
       "\n",
       "    .dataframe tbody tr th {\n",
       "        vertical-align: top;\n",
       "    }\n",
       "\n",
       "    .dataframe thead th {\n",
       "        text-align: right;\n",
       "    }\n",
       "</style>\n",
       "<table border=\"1\" class=\"dataframe\">\n",
       "  <thead>\n",
       "    <tr style=\"text-align: right;\">\n",
       "      <th></th>\n",
       "      <th>Age</th>\n",
       "      <th>Gender</th>\n",
       "      <th>Country</th>\n",
       "      <th>self_employed</th>\n",
       "      <th>family_history</th>\n",
       "      <th>treatment</th>\n",
       "      <th>work_interfere</th>\n",
       "      <th>no_employees</th>\n",
       "      <th>remote_work</th>\n",
       "      <th>tech_company</th>\n",
       "      <th>...</th>\n",
       "      <th>anonymity</th>\n",
       "      <th>leave</th>\n",
       "      <th>mental_health_consequence</th>\n",
       "      <th>phys_health_consequence</th>\n",
       "      <th>coworkers</th>\n",
       "      <th>supervisor</th>\n",
       "      <th>mental_health_interview</th>\n",
       "      <th>phys_health_interview</th>\n",
       "      <th>mental_vs_physical</th>\n",
       "      <th>obs_consequence</th>\n",
       "    </tr>\n",
       "  </thead>\n",
       "  <tbody>\n",
       "    <tr>\n",
       "      <th>0</th>\n",
       "      <td>37</td>\n",
       "      <td>0</td>\n",
       "      <td>44</td>\n",
       "      <td>0.039959</td>\n",
       "      <td>0</td>\n",
       "      <td>1</td>\n",
       "      <td>1</td>\n",
       "      <td>4</td>\n",
       "      <td>0</td>\n",
       "      <td>1</td>\n",
       "      <td>...</td>\n",
       "      <td>2</td>\n",
       "      <td>2</td>\n",
       "      <td>1</td>\n",
       "      <td>1</td>\n",
       "      <td>1</td>\n",
       "      <td>2</td>\n",
       "      <td>1</td>\n",
       "      <td>0</td>\n",
       "      <td>2</td>\n",
       "      <td>0</td>\n",
       "    </tr>\n",
       "    <tr>\n",
       "      <th>1</th>\n",
       "      <td>44</td>\n",
       "      <td>1</td>\n",
       "      <td>44</td>\n",
       "      <td>-0.085086</td>\n",
       "      <td>0</td>\n",
       "      <td>0</td>\n",
       "      <td>2</td>\n",
       "      <td>5</td>\n",
       "      <td>0</td>\n",
       "      <td>0</td>\n",
       "      <td>...</td>\n",
       "      <td>0</td>\n",
       "      <td>0</td>\n",
       "      <td>0</td>\n",
       "      <td>1</td>\n",
       "      <td>0</td>\n",
       "      <td>0</td>\n",
       "      <td>1</td>\n",
       "      <td>1</td>\n",
       "      <td>0</td>\n",
       "      <td>0</td>\n",
       "    </tr>\n",
       "    <tr>\n",
       "      <th>2</th>\n",
       "      <td>32</td>\n",
       "      <td>1</td>\n",
       "      <td>6</td>\n",
       "      <td>0.045845</td>\n",
       "      <td>0</td>\n",
       "      <td>0</td>\n",
       "      <td>2</td>\n",
       "      <td>4</td>\n",
       "      <td>0</td>\n",
       "      <td>1</td>\n",
       "      <td>...</td>\n",
       "      <td>0</td>\n",
       "      <td>1</td>\n",
       "      <td>1</td>\n",
       "      <td>1</td>\n",
       "      <td>2</td>\n",
       "      <td>2</td>\n",
       "      <td>2</td>\n",
       "      <td>2</td>\n",
       "      <td>1</td>\n",
       "      <td>0</td>\n",
       "    </tr>\n",
       "    <tr>\n",
       "      <th>3</th>\n",
       "      <td>31</td>\n",
       "      <td>1</td>\n",
       "      <td>43</td>\n",
       "      <td>0.147979</td>\n",
       "      <td>1</td>\n",
       "      <td>1</td>\n",
       "      <td>1</td>\n",
       "      <td>2</td>\n",
       "      <td>0</td>\n",
       "      <td>1</td>\n",
       "      <td>...</td>\n",
       "      <td>1</td>\n",
       "      <td>1</td>\n",
       "      <td>2</td>\n",
       "      <td>2</td>\n",
       "      <td>1</td>\n",
       "      <td>0</td>\n",
       "      <td>0</td>\n",
       "      <td>0</td>\n",
       "      <td>1</td>\n",
       "      <td>1</td>\n",
       "    </tr>\n",
       "    <tr>\n",
       "      <th>4</th>\n",
       "      <td>31</td>\n",
       "      <td>1</td>\n",
       "      <td>44</td>\n",
       "      <td>0.180743</td>\n",
       "      <td>0</td>\n",
       "      <td>0</td>\n",
       "      <td>0</td>\n",
       "      <td>1</td>\n",
       "      <td>1</td>\n",
       "      <td>1</td>\n",
       "      <td>...</td>\n",
       "      <td>0</td>\n",
       "      <td>0</td>\n",
       "      <td>1</td>\n",
       "      <td>1</td>\n",
       "      <td>1</td>\n",
       "      <td>2</td>\n",
       "      <td>2</td>\n",
       "      <td>2</td>\n",
       "      <td>0</td>\n",
       "      <td>0</td>\n",
       "    </tr>\n",
       "  </tbody>\n",
       "</table>\n",
       "<p>5 rows × 24 columns</p>\n",
       "</div>"
      ],
      "text/plain": [
       "   Age  Gender  Country self_employed  family_history  treatment   \n",
       "0   37       0       44      0.039959               0          1  \\\n",
       "1   44       1       44     -0.085086               0          0   \n",
       "2   32       1        6      0.045845               0          0   \n",
       "3   31       1       43      0.147979               1          1   \n",
       "4   31       1       44      0.180743               0          0   \n",
       "\n",
       "  work_interfere  no_employees  remote_work  tech_company  ...  anonymity   \n",
       "0              1             4            0             1  ...          2  \\\n",
       "1              2             5            0             0  ...          0   \n",
       "2              2             4            0             1  ...          0   \n",
       "3              1             2            0             1  ...          1   \n",
       "4              0             1            1             1  ...          0   \n",
       "\n",
       "   leave  mental_health_consequence  phys_health_consequence  coworkers   \n",
       "0      2                          1                        1          1  \\\n",
       "1      0                          0                        1          0   \n",
       "2      1                          1                        1          2   \n",
       "3      1                          2                        2          1   \n",
       "4      0                          1                        1          1   \n",
       "\n",
       "   supervisor  mental_health_interview  phys_health_interview   \n",
       "0           2                        1                      0  \\\n",
       "1           0                        1                      1   \n",
       "2           2                        2                      2   \n",
       "3           0                        0                      0   \n",
       "4           2                        2                      2   \n",
       "\n",
       "   mental_vs_physical  obs_consequence  \n",
       "0                   2                0  \n",
       "1                   0                0  \n",
       "2                   1                0  \n",
       "3                   1                1  \n",
       "4                   0                0  \n",
       "\n",
       "[5 rows x 24 columns]"
      ]
     },
     "execution_count": 211,
     "metadata": {},
     "output_type": "execute_result"
    }
   ],
   "source": [
    "df_clean.head()"
   ]
  },
  {
   "cell_type": "code",
   "execution_count": 212,
   "metadata": {},
   "outputs": [
    {
     "name": "stdout",
     "output_type": "stream",
     "text": [
      "<class 'pandas.core.frame.DataFrame'>\n",
      "Index: 1247 entries, 0 to 1258\n",
      "Data columns (total 24 columns):\n",
      " #   Column                     Non-Null Count  Dtype \n",
      "---  ------                     --------------  ----- \n",
      " 0   Age                        1247 non-null   int64 \n",
      " 1   Gender                     1247 non-null   int64 \n",
      " 2   Country                    1247 non-null   int64 \n",
      " 3   self_employed              1247 non-null   object\n",
      " 4   family_history             1247 non-null   int64 \n",
      " 5   treatment                  1247 non-null   int64 \n",
      " 6   work_interfere             1247 non-null   object\n",
      " 7   no_employees               1247 non-null   int64 \n",
      " 8   remote_work                1247 non-null   int64 \n",
      " 9   tech_company               1247 non-null   int64 \n",
      " 10  benefits                   1247 non-null   int64 \n",
      " 11  care_options               1247 non-null   int64 \n",
      " 12  wellness_program           1247 non-null   int64 \n",
      " 13  seek_help                  1247 non-null   int64 \n",
      " 14  anonymity                  1247 non-null   int64 \n",
      " 15  leave                      1247 non-null   int64 \n",
      " 16  mental_health_consequence  1247 non-null   int64 \n",
      " 17  phys_health_consequence    1247 non-null   int64 \n",
      " 18  coworkers                  1247 non-null   int64 \n",
      " 19  supervisor                 1247 non-null   int64 \n",
      " 20  mental_health_interview    1247 non-null   int64 \n",
      " 21  phys_health_interview      1247 non-null   int64 \n",
      " 22  mental_vs_physical         1247 non-null   int64 \n",
      " 23  obs_consequence            1247 non-null   int64 \n",
      "dtypes: int64(22), object(2)\n",
      "memory usage: 243.6+ KB\n"
     ]
    }
   ],
   "source": [
    "df_clean.info()"
   ]
  },
  {
   "cell_type": "code",
   "execution_count": 213,
   "metadata": {},
   "outputs": [
    {
     "data": {
      "image/png": "[encoded data removed]",
      "text/plain": [
       "<Figure size 640x480 with 1 Axes>"
      ]
     },
     "metadata": {},
     "output_type": "display_data"
    },
    {
     "data": {
      "image/png": "[encoded data removed]",
      "text/plain": [
       "<Figure size 640x480 with 1 Axes>"
      ]
     },
     "metadata": {},
     "output_type": "display_data"
    },
    {
     "data": {
      "image/png": "[encoded data removed]",
      "text/plain": [
       "<Figure size 640x480 with 1 Axes>"
      ]
     },
     "metadata": {},
     "output_type": "display_data"
    },
    {
     "data": {
      "image/png": "[encoded data removed]",
      "text/plain": [
       "<Figure size 1000x500 with 1 Axes>"
      ]
     },
     "metadata": {},
     "output_type": "display_data"
    },
    {
     "data": {
      "image/png": "[encoded data removed]",
      "text/plain": [
       "<Figure size 640x480 with 1 Axes>"
      ]
     },
     "metadata": {},
     "output_type": "display_data"
    },
    {
     "data": {
      "image/png": "[encoded data removed]",
      "text/plain": [
       "<Figure size 640x480 with 1 Axes>"
      ]
     },
     "metadata": {},
     "output_type": "display_data"
    },
    {
     "data": {
      "image/png": "[encoded data removed]",
      "text/plain": [
       "<Figure size 1000x500 with 1 Axes>"
      ]
     },
     "metadata": {},
     "output_type": "display_data"
    },
    {
     "data": {
      "image/png": "[encoded data removed]",
      "text/plain": [
       "<Figure size 640x480 with 1 Axes>"
      ]
     },
     "metadata": {},
     "output_type": "display_data"
    },
    {
     "data": {
      "image/png": "[encoded data removed]",
      "text/plain": [
       "<Figure size 640x480 with 1 Axes>"
      ]
     },
     "metadata": {},
     "output_type": "display_data"
    },
    {
     "data": {
      "image/png": "[encoded data removed]",
      "text/plain": [
       "<Figure size 640x480 with 1 Axes>"
      ]
     },
     "metadata": {},
     "output_type": "display_data"
    },
    {
     "data": {
      "image/png": "[encoded data removed]",
      "text/plain": [
       "<Figure size 640x480 with 1 Axes>"
      ]
     },
     "metadata": {},
     "output_type": "display_data"
    },
    {
     "data": {
      "image/png": "[encoded data removed]",
      "text/plain": [
       "<Figure size 640x480 with 1 Axes>"
      ]
     },
     "metadata": {},
     "output_type": "display_data"
    },
    {
     "data": {
      "image/png": "[encoded data removed]",
      "text/plain": [
       "<Figure size 640x480 with 1 Axes>"
      ]
     },
     "metadata": {},
     "output_type": "display_data"
    },
    {
     "data": {
      "image/png": "[encoded data removed]",
      "text/plain": [
       "<Figure size 640x480 with 1 Axes>"
      ]
     },
     "metadata": {},
     "output_type": "display_data"
    },
    {
     "data": {
      "image/png": "[encoded data removed]",
      "text/plain": [
       "<Figure size 640x480 with 1 Axes>"
      ]
     },
     "metadata": {},
     "output_type": "display_data"
    },
    {
     "data": {
      "image/png": "[encoded data removed]",
      "text/plain": [
       "<Figure size 640x480 with 1 Axes>"
      ]
     },
     "metadata": {},
     "output_type": "display_data"
    },
    {
     "data": {
      "image/png": "[encoded data removed]",
      "text/plain": [
       "<Figure size 640x480 with 1 Axes>"
      ]
     },
     "metadata": {},
     "output_type": "display_data"
    },
    {
     "data": {
      "image/png": "[encoded data removed]",
      "text/plain": [
       "<Figure size 640x480 with 1 Axes>"
      ]
     },
     "metadata": {},
     "output_type": "display_data"
    },
    {
     "data": {
      "image/png": "[encoded data removed]",
      "text/plain": [
       "<Figure size 640x480 with 1 Axes>"
      ]
     },
     "metadata": {},
     "output_type": "display_data"
    },
    {
     "data": {
      "image/png": "[encoded data removed]",
      "text/plain": [
       "<Figure size 640x480 with 1 Axes>"
      ]
     },
     "metadata": {},
     "output_type": "display_data"
    },
    {
     "data": {
      "image/png": "[encoded data removed]",
      "text/plain": [
       "<Figure size 640x480 with 1 Axes>"
      ]
     },
     "metadata": {},
     "output_type": "display_data"
    },
    {
     "data": {
      "image/png": "[encoded data removed]",
      "text/plain": [
       "<Figure size 640x480 with 1 Axes>"
      ]
     },
     "metadata": {},
     "output_type": "display_data"
    },
    {
     "data": {
      "image/png": "[encoded data removed]",
      "text/plain": [
       "<Figure size 640x480 with 1 Axes>"
      ]
     },
     "metadata": {},
     "output_type": "display_data"
    },
    {
     "data": {
      "image/png": "[encoded data removed]",
      "text/plain": [
       "<Figure size 640x480 with 1 Axes>"
      ]
     },
     "metadata": {},
     "output_type": "display_data"
    }
   ],
   "source": [
    "import matplotlib.pyplot as plt\n",
    "import seaborn as sns\n",
    "\n",
    "# iterate over each column\n",
    "for col in df_clean.columns:\n",
    "    # check if the column is numerical\n",
    "    if df_clean[col].dtype in ['int64', 'float64']:\n",
    "        # plot a histogram\n",
    "        plt.hist(df_clean[col])  #It was df[col] but the problem there is no df in the notebook\n",
    "        plt.title(col)\n",
    "        plt.show()\n",
    "       \n",
    "    # if the column is categorical\n",
    "    else:\n",
    "        # plot a bar chart\n",
    "        fig = plt.figure(figsize=(10, 5))\n",
    "        sns.countplot(x=df_clean[col])\n",
    "        plt.title(col)\n",
    "        plt.show()\n"
   ]
  },
  {
   "cell_type": "code",
   "execution_count": 214,
   "metadata": {},
   "outputs": [
    {
     "data": {
      "text/plain": [
       "'#correlation matrix\\ncorr_matrix = df_clean.corr()\\nf, ax = plt.subplots(figsize=(12, 9))\\nsns.heatmap(corr_matrix, vmax=.8, square=True)\\nplt.show()\\n\\n#treatment correlation matrix\\nk = 10 #number of variables for heatmap\\ncols = corr_matrix.nlargest(k, \\'treatment\\')[\\'treatment\\'].index\\n\\nif len(cols) > 1:\\n    cm = np.corrcoef(df_clean[cols].values.T)\\n    sns.set(font_scale=1.25)\\n    f, ax = plt.subplots(figsize=(12, 9))\\n    hm = sns.heatmap(cm, cbar=True, annot=True, square=True, fmt=\\'.2f\\', annot_kws={\\'size\\': 10}, yticklabels=cols.values, xticklabels=cols.values)\\n    plt.show()\\nelse:\\n    print(\"cols contains only one column:\", cols)'"
      ]
     },
     "execution_count": 214,
     "metadata": {},
     "output_type": "execute_result"
    }
   ],
   "source": [
    "\"\"\"#correlation matrix\n",
    "corr_matrix = df_clean.corr()\n",
    "f, ax = plt.subplots(figsize=(12, 9))\n",
    "sns.heatmap(corr_matrix, vmax=.8, square=True)\n",
    "plt.show()\n",
    "\n",
    "#treatment correlation matrix\n",
    "k = 10 #number of variables for heatmap\n",
    "cols = corr_matrix.nlargest(k, 'treatment')['treatment'].index\n",
    "\n",
    "if len(cols) > 1:\n",
    "    cm = np.corrcoef(df_clean[cols].values.T)\n",
    "    sns.set(font_scale=1.25)\n",
    "    f, ax = plt.subplots(figsize=(12, 9))\n",
    "    hm = sns.heatmap(cm, cbar=True, annot=True, square=True, fmt='.2f', annot_kws={'size': 10}, yticklabels=cols.values, xticklabels=cols.values)\n",
    "    plt.show()\n",
    "else:\n",
    "    print(\"cols contains only one column:\", cols)\"\"\""
   ]
  },
  {
   "cell_type": "markdown",
   "metadata": {},
   "source": [
    "### Spliltting the dataset"
   ]
  },
  {
   "cell_type": "code",
   "execution_count": 215,
   "metadata": {},
   "outputs": [],
   "source": [
    "X = df_clean.drop('treatment', axis=1)  # all columns except 'Treatment'\n",
    "y = df_clean['treatment']              # only 'Treatment' column\n",
    "\n",
    "X_train, X_test, y_train, y_test = train_test_split(X, y, test_size=0.3, random_state=42)\n",
    "\n"
   ]
  },
  {
   "cell_type": "markdown",
   "metadata": {},
   "source": [
    "#### Scaling and Normalization "
   ]
  },
  {
   "cell_type": "code",
   "execution_count": 216,
   "metadata": {},
   "outputs": [],
   "source": [
    "# Create an instance of the StandardScaler class\n",
    "scaler = StandardScaler()\n",
    "\n",
    "# Fit the scaler on the training data and transform both the training and testing data\n",
    "X_train_scaled = scaler.fit_transform(X_train)\n",
    "X_test_scaled = scaler.transform(X_test)\n"
   ]
  },
  {
   "cell_type": "code",
   "execution_count": 217,
   "metadata": {},
   "outputs": [
    {
     "data": {
      "text/plain": [
       "array([[-0.86128449,  0.50644264, -1.59071585, ..., -1.00012019,\n",
       "        -0.97061503, -0.41667788],\n",
       "       [ 0.66776249,  0.50644264,  0.54083117, ..., -1.00012019,\n",
       "        -0.97061503, -0.41667788],\n",
       "       [-0.72228022,  0.50644264, -1.21008245, ..., -1.00012019,\n",
       "         0.22991874,  2.3999354 ],\n",
       "       ...,\n",
       "       [-0.44427168,  0.50644264,  0.23632445, ...,  1.75970515,\n",
       "        -0.97061503,  2.3999354 ],\n",
       "       [ 1.50178811,  0.50644264, -0.90557574, ..., -1.00012019,\n",
       "        -0.97061503, -0.41667788],\n",
       "       [ 1.22377957,  0.50644264,  0.46470449, ..., -1.00012019,\n",
       "        -0.97061503, -0.41667788]])"
      ]
     },
     "execution_count": 217,
     "metadata": {},
     "output_type": "execute_result"
    }
   ],
   "source": [
    "X_train_scaled"
   ]
  },
  {
   "cell_type": "markdown",
   "metadata": {},
   "source": [
    "### Model Selection "
   ]
  },
  {
   "attachments": {},
   "cell_type": "markdown",
   "metadata": {},
   "source": [
    "For our binary classification models, we will select the best model from all the classification models below after trying all of them, one by one and check their accuracy.\n",
    "\n",
    "- Logistic Regression is a statistical model that uses a logistic function to model a binary dependent variable. It is a popular algorithm for binary classification problems. ✅\n",
    "\n",
    "- Decision Trees: Decision trees are tree-like models that use a series of decisions to classify data. Decision trees can handle both categorical and continuous data. ✅\n",
    "\n",
    "- Random Forest: Random Forest is an ensemble learning method that combines multiple decision trees to improve the accuracy and stability of the model. It is one of the most popular algorithms for binary classification problems.\n",
    "\n",
    "- Naive Bayes: Naive Bayes is a probabilistic algorithm that calculates the probability of a data point belonging to a particular class based on the conditional probabilities of each feature. ✅\n",
    "\n",
    "- Support Vector Machines (SVM): SVM is a linear classification algorithm that finds the best hyperplane to separate data points into different classes.\n",
    "\n",
    "- Gradient Boosted Trees: Gradient Boosted Trees are another ensemble learning method that combines multiple decision trees to improve model accuracy. Gradient Boosted Trees are especially useful for handling imbalanced datasets. ✅\n",
    "\n",
    "- Neural Networks: Neural networks are a set of algorithms that can learn and recognize patterns in data. They are used for both binary and multi-class classification problems. ✅\n"
   ]
  },
  {
   "cell_type": "markdown",
   "metadata": {},
   "source": [
    "1 - Logistic Regression"
   ]
  },
  {
   "cell_type": "code",
   "execution_count": 218,
   "metadata": {},
   "outputs": [
    {
     "name": "stdout",
     "output_type": "stream",
     "text": [
      "Best hyperparameters: {'C': 0.1, 'penalty': 'l1', 'solver': 'saga'}\n",
      "Best cross-validation score: 0.77\n",
      "Test set accuracy: 0.76\n"
     ]
    }
   ],
   "source": [
    "from sklearn.linear_model import LogisticRegression\n",
    "from sklearn.model_selection import GridSearchCV\n",
    "from sklearn.metrics import accuracy_score\n",
    "\n",
    "# Create an instance of the LogisticRegression class\n",
    "model = LogisticRegression()\n",
    "\n",
    "# Define the hyperparameter grid to search over\n",
    "param_grid = {'penalty': ['l1', 'l2'],\n",
    "              'C': [0.0001, 0.01, 0.1, 1, 10, 100],\n",
    "              'solver': ['liblinear', 'saga']}\n",
    "\n",
    "# Perform a grid search using cross-validation to find the best hyperparameters\n",
    "grid_search = GridSearchCV(model, param_grid=param_grid, cv=5, n_jobs=-1)\n",
    "grid_search.fit(X_train_scaled, y_train)\n",
    "\n",
    "# Fit the model to the training data\n",
    "model.fit(X_train_scaled, y_train)\n",
    "\n",
    "# Print the best hyperparameters\n",
    "print(\"Best hyperparameters: {}\".format(grid_search.best_params_))\n",
    "\n",
    "# Print the best cross-validation score\n",
    "print(\"Best cross-validation score: {:.2f}\".format(grid_search.best_score_))\n",
    "\n",
    "# Print the test set accuracy\n",
    "print(\"Test set accuracy: {:.2f}\".format(grid_search.score(X_test_scaled, y_test)))\n"
   ]
  },
  {
   "cell_type": "code",
   "execution_count": 219,
   "metadata": {},
   "outputs": [
    {
     "name": "stdout",
     "output_type": "stream",
     "text": [
      "AUC: 0.7161089538602102\n"
     ]
    },
    {
     "name": "stderr",
     "output_type": "stream",
     "text": [
      "/Users/cheimamezdour/miniconda3/lib/python3.10/site-packages/sklearn/base.py:432: UserWarning: X has feature names, but LogisticRegression was fitted without feature names\n",
      "  warnings.warn(\n"
     ]
    },
    {
     "data": {
      "image/png": "[encoded data removed]",
      "text/plain": [
       "<Figure size 640x480 with 1 Axes>"
      ]
     },
     "metadata": {},
     "output_type": "display_data"
    }
   ],
   "source": [
    "from sklearn.metrics import roc_curve, roc_auc_score\n",
    "import matplotlib.pyplot as plt\n",
    "\n",
    "# Calculate probabilities for the testing data\n",
    "y_proba = model.predict_proba(X_test)[:,1]\n",
    "\n",
    "# Calculate ROC curve and AUC on the testing data\n",
    "fpr, tpr, thresholds = roc_curve(y_test, y_proba)\n",
    "auc = roc_auc_score(y_test, y_proba)\n",
    "print(\"AUC:\", auc)\n",
    "\n",
    "# Plot ROC curve\n",
    "plt.plot(fpr, tpr)\n",
    "plt.xlabel(\"False Positive Rate\")\n",
    "plt.ylabel(\"True Positive Rate\")\n",
    "plt.title(\"ROC Curve\")\n",
    "plt.show()"
   ]
  },
  {
   "attachments": {},
   "cell_type": "markdown",
   "metadata": {},
   "source": [
    "2. Random Forest"
   ]
  },
  {
   "cell_type": "code",
   "execution_count": 220,
   "metadata": {},
   "outputs": [
    {
     "name": "stderr",
     "output_type": "stream",
     "text": [
      "/Users/cheimamezdour/miniconda3/lib/python3.10/site-packages/sklearn/model_selection/_search.py:305: UserWarning: The total space of parameters 4 is smaller than n_iter=100. Running 4 iterations. For exhaustive searches, use GridSearchCV.\n",
      "  warnings.warn(\n"
     ]
    },
    {
     "name": "stdout",
     "output_type": "stream",
     "text": [
      "Best hyperparameters: {'min_samples_split': 30, 'min_samples_leaf': 4, 'max_features': 24, 'max_depth': None, 'bootstrap': True}\n",
      "Accuracy: 81.07%\n"
     ]
    }
   ],
   "source": [
    "# Import necessary libraries\n",
    "from sklearn.ensemble import RandomForestClassifier\n",
    "from sklearn.model_selection import RandomizedSearchCV\n",
    "\n",
    "\n",
    "# Create a Random Forest classifier with 500 trees\n",
    "rfc = RandomForestClassifier(n_estimators=500)\n",
    "\n",
    "# Tune hyperparameters using randomized search\n",
    "param_distributions = {\n",
    "    'max_depth': [None, 50],\n",
    "    'max_features': [24],\n",
    "    'min_samples_split': [30],\n",
    "    'min_samples_leaf': [4],\n",
    "    'bootstrap': [True, False]\n",
    "}\n",
    "random_search = RandomizedSearchCV(rfc, param_distributions=param_distributions, n_iter=100, cv=5, random_state=42)\n",
    "random_search.fit(X_train, y_train)\n",
    "print(\"Best hyperparameters:\", random_search.best_params_)\n",
    "\n",
    "# Train the classifier on the best hyperparameters\n",
    "rfc = RandomForestClassifier(**random_search.best_params_)\n",
    "rfc.fit(X_train, y_train)\n",
    "\n",
    "# Make predictions on the testing data\n",
    "y_pred = rfc.predict(X_test)\n",
    "\n",
    "# Evaluate the accuracy of the classifier\n",
    "accuracy = rfc.score(X_test, y_test)\n",
    "print(\"Accuracy: {:.2f}%\".format(accuracy * 100))\n"
   ]
  },
  {
   "attachments": {},
   "cell_type": "markdown",
   "metadata": {},
   "source": [
    "3. SVM"
   ]
  },
  {
   "cell_type": "code",
   "execution_count": 221,
   "metadata": {},
   "outputs": [
    {
     "name": "stdout",
     "output_type": "stream",
     "text": [
      "Cross-validation scores: [0.75       0.75       0.8045977  0.79310345 0.79310345 0.79310345\n",
      " 0.83908046 0.71264368 0.71264368 0.7816092 ]\n",
      "Average score: 0.7729885057471265\n",
      "Accuracy: 0.7546666666666667\n"
     ]
    }
   ],
   "source": [
    "from sklearn.svm import SVC\n",
    "from sklearn.metrics import accuracy_score\n",
    "from sklearn.model_selection import GridSearchCV, cross_val_score\n",
    "from sklearn.ensemble import BaggingClassifier\n",
    "\n",
    "# perform grid search to find the best hyperparameters\n",
    "parameters = {'kernel': ['linear', 'rbf'], 'C': [1, 10, 100], 'gamma': [0.1, 0.01, 0.001]}\n",
    "svm = SVC()\n",
    "grid_search = GridSearchCV(svm, parameters)\n",
    "grid_search.fit(X_train, y_train)\n",
    "svm = grid_search.best_estimator_\n",
    "\n",
    "# use bagging as an ensemble method\n",
    "bagging = BaggingClassifier(svm, n_estimators=10, random_state=0)\n",
    "bagging.fit(X_train, y_train)\n",
    "\n",
    "# perform cross-validation to evaluate the model\n",
    "cv_scores = cross_val_score(bagging, X_train, y_train, cv=10)\n",
    "print(\"Cross-validation scores:\", cv_scores)\n",
    "print(\"Average score:\", cv_scores.mean())\n",
    "\n",
    "# predict the labels of the test data\n",
    "y_pred = bagging.predict(X_test)\n",
    "\n",
    "# calculate the accuracy of the model\n",
    "accuracy = accuracy_score(y_test, y_pred)\n",
    "\n",
    "# print the accuracy\n",
    "print(\"Accuracy:\", accuracy)\n"
   ]
  },
  {
   "attachments": {},
   "cell_type": "markdown",
   "metadata": {},
   "source": [
    "4. Neural network"
   ]
  },
  {
   "cell_type": "code",
   "execution_count": 223,
   "metadata": {},
   "outputs": [
    {
     "name": "stdout",
     "output_type": "stream",
     "text": [
      "Epoch 1/100\n"
     ]
    },
    {
     "name": "stderr",
     "output_type": "stream",
     "text": [
      "2023-04-27 18:46:43.306268: W tensorflow/tsl/platform/profile_utils/cpu_utils.cc:128] Failed to get CPU frequency: 0 Hz\n"
     ]
    },
    {
     "name": "stdout",
     "output_type": "stream",
     "text": [
      "28/28 [==============================] - 0s 4ms/step - loss: 7.5533 - accuracy: 0.5103 - val_loss: 8.1855 - val_accuracy: 0.4693\n",
      "Epoch 2/100\n",
      "28/28 [==============================] - 0s 1ms/step - loss: 7.5533 - accuracy: 0.5103 - val_loss: 8.1855 - val_accuracy: 0.4693\n",
      "Epoch 3/100\n",
      "28/28 [==============================] - 0s 1ms/step - loss: 7.5533 - accuracy: 0.5103 - val_loss: 8.1855 - val_accuracy: 0.4693\n",
      "Epoch 4/100\n",
      "28/28 [==============================] - 0s 1ms/step - loss: 7.5533 - accuracy: 0.5103 - val_loss: 8.1855 - val_accuracy: 0.4693\n",
      "Epoch 5/100\n",
      "28/28 [==============================] - 0s 1ms/step - loss: 7.5533 - accuracy: 0.5103 - val_loss: 8.1855 - val_accuracy: 0.4693\n",
      "Epoch 6/100\n",
      "28/28 [==============================] - 0s 1ms/step - loss: 7.5533 - accuracy: 0.5103 - val_loss: 8.1855 - val_accuracy: 0.4693\n",
      "Epoch 7/100\n",
      "28/28 [==============================] - 0s 1ms/step - loss: 7.5533 - accuracy: 0.5103 - val_loss: 8.1855 - val_accuracy: 0.4693\n",
      "Epoch 8/100\n",
      "28/28 [==============================] - 0s 1ms/step - loss: 7.5533 - accuracy: 0.5103 - val_loss: 8.1855 - val_accuracy: 0.4693\n",
      "Epoch 9/100\n",
      "28/28 [==============================] - 0s 1ms/step - loss: 7.5533 - accuracy: 0.5103 - val_loss: 8.1855 - val_accuracy: 0.4693\n",
      "Epoch 10/100\n",
      "28/28 [==============================] - 0s 1ms/step - loss: 7.5533 - accuracy: 0.5103 - val_loss: 8.1855 - val_accuracy: 0.4693\n",
      "Epoch 11/100\n",
      "28/28 [==============================] - 0s 1ms/step - loss: 7.5533 - accuracy: 0.5103 - val_loss: 8.1855 - val_accuracy: 0.4693\n",
      "Epoch 12/100\n",
      "28/28 [==============================] - 0s 1ms/step - loss: 7.5533 - accuracy: 0.5103 - val_loss: 8.1855 - val_accuracy: 0.4693\n",
      "Epoch 13/100\n",
      "28/28 [==============================] - 0s 1ms/step - loss: 7.5533 - accuracy: 0.5103 - val_loss: 8.1855 - val_accuracy: 0.4693\n",
      "Epoch 14/100\n",
      "28/28 [==============================] - 0s 1ms/step - loss: 7.5533 - accuracy: 0.5103 - val_loss: 8.1855 - val_accuracy: 0.4693\n",
      "Epoch 15/100\n",
      "28/28 [==============================] - 0s 1ms/step - loss: 7.5533 - accuracy: 0.5103 - val_loss: 8.1855 - val_accuracy: 0.4693\n",
      "Epoch 16/100\n",
      "28/28 [==============================] - 0s 1ms/step - loss: 7.5533 - accuracy: 0.5103 - val_loss: 8.1855 - val_accuracy: 0.4693\n",
      "Epoch 17/100\n",
      "28/28 [==============================] - 0s 3ms/step - loss: 7.5533 - accuracy: 0.5103 - val_loss: 8.1855 - val_accuracy: 0.4693\n",
      "Epoch 18/100\n",
      "28/28 [==============================] - 0s 1ms/step - loss: 7.5533 - accuracy: 0.5103 - val_loss: 8.1855 - val_accuracy: 0.4693\n",
      "Epoch 19/100\n",
      "28/28 [==============================] - 0s 1ms/step - loss: 7.5533 - accuracy: 0.5103 - val_loss: 8.1855 - val_accuracy: 0.4693\n",
      "Epoch 20/100\n",
      "28/28 [==============================] - 0s 1ms/step - loss: 7.5533 - accuracy: 0.5103 - val_loss: 8.1855 - val_accuracy: 0.4693\n",
      "Epoch 21/100\n",
      "28/28 [==============================] - 0s 2ms/step - loss: 7.5533 - accuracy: 0.5103 - val_loss: 8.1855 - val_accuracy: 0.4693\n",
      "Epoch 22/100\n",
      "28/28 [==============================] - 0s 1ms/step - loss: 7.5533 - accuracy: 0.5103 - val_loss: 8.1855 - val_accuracy: 0.4693\n",
      "Epoch 23/100\n",
      "28/28 [==============================] - 0s 1ms/step - loss: 7.5533 - accuracy: 0.5103 - val_loss: 8.1855 - val_accuracy: 0.4693\n",
      "Epoch 24/100\n",
      "28/28 [==============================] - 0s 1ms/step - loss: 7.5533 - accuracy: 0.5103 - val_loss: 8.1855 - val_accuracy: 0.4693\n",
      "Epoch 25/100\n",
      "28/28 [==============================] - 0s 1ms/step - loss: 7.5533 - accuracy: 0.5103 - val_loss: 8.1855 - val_accuracy: 0.4693\n",
      "Epoch 26/100\n",
      "28/28 [==============================] - 0s 1ms/step - loss: 7.5533 - accuracy: 0.5103 - val_loss: 8.1855 - val_accuracy: 0.4693\n",
      "Epoch 27/100\n",
      "28/28 [==============================] - 0s 1ms/step - loss: 7.5533 - accuracy: 0.5103 - val_loss: 8.1855 - val_accuracy: 0.4693\n",
      "Epoch 28/100\n",
      "28/28 [==============================] - 0s 1ms/step - loss: 7.5533 - accuracy: 0.5103 - val_loss: 8.1855 - val_accuracy: 0.4693\n",
      "Epoch 29/100\n",
      "28/28 [==============================] - 0s 1ms/step - loss: 7.5533 - accuracy: 0.5103 - val_loss: 8.1855 - val_accuracy: 0.4693\n",
      "Epoch 30/100\n",
      "28/28 [==============================] - 0s 1ms/step - loss: 7.5533 - accuracy: 0.5103 - val_loss: 8.1855 - val_accuracy: 0.4693\n",
      "Epoch 31/100\n",
      "28/28 [==============================] - 0s 1ms/step - loss: 7.5533 - accuracy: 0.5103 - val_loss: 8.1855 - val_accuracy: 0.4693\n",
      "Epoch 32/100\n",
      "28/28 [==============================] - 0s 1ms/step - loss: 7.5533 - accuracy: 0.5103 - val_loss: 8.1855 - val_accuracy: 0.4693\n",
      "Epoch 33/100\n",
      "28/28 [==============================] - 0s 1ms/step - loss: 7.5533 - accuracy: 0.5103 - val_loss: 8.1855 - val_accuracy: 0.4693\n",
      "Epoch 34/100\n",
      "28/28 [==============================] - 0s 1ms/step - loss: 7.5533 - accuracy: 0.5103 - val_loss: 8.1855 - val_accuracy: 0.4693\n",
      "Epoch 35/100\n",
      "28/28 [==============================] - 0s 1ms/step - loss: 7.5533 - accuracy: 0.5103 - val_loss: 8.1855 - val_accuracy: 0.4693\n",
      "Epoch 36/100\n",
      "28/28 [==============================] - 0s 1ms/step - loss: 7.5533 - accuracy: 0.5103 - val_loss: 8.1855 - val_accuracy: 0.4693\n",
      "Epoch 37/100\n",
      "28/28 [==============================] - 0s 1ms/step - loss: 7.5533 - accuracy: 0.5103 - val_loss: 8.1855 - val_accuracy: 0.4693\n",
      "Epoch 38/100\n",
      "28/28 [==============================] - 0s 1ms/step - loss: 7.5533 - accuracy: 0.5103 - val_loss: 8.1855 - val_accuracy: 0.4693\n",
      "Epoch 39/100\n",
      "28/28 [==============================] - 0s 1ms/step - loss: 7.5533 - accuracy: 0.5103 - val_loss: 8.1855 - val_accuracy: 0.4693\n",
      "Epoch 40/100\n",
      "28/28 [==============================] - 0s 1ms/step - loss: 7.5533 - accuracy: 0.5103 - val_loss: 8.1855 - val_accuracy: 0.4693\n",
      "Epoch 41/100\n",
      "28/28 [==============================] - 0s 1ms/step - loss: 7.5533 - accuracy: 0.5103 - val_loss: 8.1855 - val_accuracy: 0.4693\n",
      "Epoch 42/100\n",
      "28/28 [==============================] - 0s 2ms/step - loss: 7.5533 - accuracy: 0.5103 - val_loss: 8.1855 - val_accuracy: 0.4693\n",
      "Epoch 43/100\n",
      "28/28 [==============================] - 0s 1ms/step - loss: 7.5533 - accuracy: 0.5103 - val_loss: 8.1855 - val_accuracy: 0.4693\n",
      "Epoch 44/100\n",
      "28/28 [==============================] - 0s 1ms/step - loss: 7.5533 - accuracy: 0.5103 - val_loss: 8.1855 - val_accuracy: 0.4693\n",
      "Epoch 45/100\n",
      "28/28 [==============================] - 0s 1ms/step - loss: 7.5533 - accuracy: 0.5103 - val_loss: 8.1855 - val_accuracy: 0.4693\n",
      "Epoch 46/100\n",
      "28/28 [==============================] - 0s 1ms/step - loss: 7.5533 - accuracy: 0.5103 - val_loss: 8.1855 - val_accuracy: 0.4693\n",
      "Epoch 47/100\n",
      "28/28 [==============================] - 0s 1ms/step - loss: 7.5533 - accuracy: 0.5103 - val_loss: 8.1855 - val_accuracy: 0.4693\n",
      "Epoch 48/100\n",
      "28/28 [==============================] - 0s 1ms/step - loss: 7.5533 - accuracy: 0.5103 - val_loss: 8.1855 - val_accuracy: 0.4693\n",
      "Epoch 49/100\n",
      "28/28 [==============================] - 0s 1ms/step - loss: 7.5533 - accuracy: 0.5103 - val_loss: 8.1855 - val_accuracy: 0.4693\n",
      "Epoch 50/100\n",
      "28/28 [==============================] - 0s 1ms/step - loss: 7.5533 - accuracy: 0.5103 - val_loss: 8.1855 - val_accuracy: 0.4693\n",
      "Epoch 51/100\n",
      "28/28 [==============================] - 0s 1ms/step - loss: 7.5533 - accuracy: 0.5103 - val_loss: 8.1855 - val_accuracy: 0.4693\n",
      "Epoch 52/100\n",
      "28/28 [==============================] - 0s 1ms/step - loss: 7.5533 - accuracy: 0.5103 - val_loss: 8.1855 - val_accuracy: 0.4693\n",
      "Epoch 53/100\n",
      "28/28 [==============================] - 0s 1ms/step - loss: 7.5533 - accuracy: 0.5103 - val_loss: 8.1855 - val_accuracy: 0.4693\n",
      "Epoch 54/100\n",
      "28/28 [==============================] - 0s 1ms/step - loss: 7.5533 - accuracy: 0.5103 - val_loss: 8.1855 - val_accuracy: 0.4693\n",
      "Epoch 55/100\n",
      "28/28 [==============================] - 0s 1ms/step - loss: 7.5533 - accuracy: 0.5103 - val_loss: 8.1855 - val_accuracy: 0.4693\n",
      "Epoch 56/100\n",
      "28/28 [==============================] - 0s 1ms/step - loss: 7.5533 - accuracy: 0.5103 - val_loss: 8.1855 - val_accuracy: 0.4693\n",
      "Epoch 57/100\n",
      "28/28 [==============================] - 0s 1ms/step - loss: 7.5533 - accuracy: 0.5103 - val_loss: 8.1855 - val_accuracy: 0.4693\n",
      "Epoch 58/100\n",
      "28/28 [==============================] - 0s 1ms/step - loss: 7.5533 - accuracy: 0.5103 - val_loss: 8.1855 - val_accuracy: 0.4693\n",
      "Epoch 59/100\n",
      "28/28 [==============================] - 0s 1ms/step - loss: 7.5533 - accuracy: 0.5103 - val_loss: 8.1855 - val_accuracy: 0.4693\n",
      "Epoch 60/100\n",
      "28/28 [==============================] - 0s 1ms/step - loss: 7.5533 - accuracy: 0.5103 - val_loss: 8.1855 - val_accuracy: 0.4693\n",
      "Epoch 61/100\n",
      "28/28 [==============================] - 0s 1ms/step - loss: 7.5533 - accuracy: 0.5103 - val_loss: 8.1855 - val_accuracy: 0.4693\n",
      "Epoch 62/100\n",
      "28/28 [==============================] - 0s 1ms/step - loss: 7.5533 - accuracy: 0.5103 - val_loss: 8.1855 - val_accuracy: 0.4693\n",
      "Epoch 63/100\n",
      "28/28 [==============================] - 0s 1ms/step - loss: 7.5533 - accuracy: 0.5103 - val_loss: 8.1855 - val_accuracy: 0.4693\n",
      "Epoch 64/100\n",
      "28/28 [==============================] - 0s 2ms/step - loss: 7.5533 - accuracy: 0.5103 - val_loss: 8.1855 - val_accuracy: 0.4693\n",
      "Epoch 65/100\n",
      "28/28 [==============================] - 0s 1ms/step - loss: 7.5533 - accuracy: 0.5103 - val_loss: 8.1855 - val_accuracy: 0.4693\n",
      "Epoch 66/100\n",
      "28/28 [==============================] - 0s 1ms/step - loss: 7.5533 - accuracy: 0.5103 - val_loss: 8.1855 - val_accuracy: 0.4693\n",
      "Epoch 67/100\n",
      "28/28 [==============================] - 0s 1ms/step - loss: 7.5533 - accuracy: 0.5103 - val_loss: 8.1855 - val_accuracy: 0.4693\n",
      "Epoch 68/100\n",
      "28/28 [==============================] - 0s 1ms/step - loss: 7.5533 - accuracy: 0.5103 - val_loss: 8.1855 - val_accuracy: 0.4693\n",
      "Epoch 69/100\n",
      "28/28 [==============================] - 0s 1ms/step - loss: 7.5533 - accuracy: 0.5103 - val_loss: 8.1855 - val_accuracy: 0.4693\n",
      "Epoch 70/100\n",
      "28/28 [==============================] - 0s 1ms/step - loss: 7.5533 - accuracy: 0.5103 - val_loss: 8.1855 - val_accuracy: 0.4693\n",
      "Epoch 71/100\n",
      "28/28 [==============================] - 0s 1ms/step - loss: 7.5533 - accuracy: 0.5103 - val_loss: 8.1855 - val_accuracy: 0.4693\n",
      "Epoch 72/100\n",
      "28/28 [==============================] - 0s 1ms/step - loss: 7.5533 - accuracy: 0.5103 - val_loss: 8.1855 - val_accuracy: 0.4693\n",
      "Epoch 73/100\n",
      "28/28 [==============================] - 0s 1ms/step - loss: 7.5533 - accuracy: 0.5103 - val_loss: 8.1855 - val_accuracy: 0.4693\n",
      "Epoch 74/100\n",
      "28/28 [==============================] - 0s 1ms/step - loss: 7.5533 - accuracy: 0.5103 - val_loss: 8.1855 - val_accuracy: 0.4693\n",
      "Epoch 75/100\n",
      "28/28 [==============================] - 0s 1ms/step - loss: 7.5533 - accuracy: 0.5103 - val_loss: 8.1855 - val_accuracy: 0.4693\n",
      "Epoch 76/100\n",
      "28/28 [==============================] - 0s 1ms/step - loss: 7.5533 - accuracy: 0.5103 - val_loss: 8.1855 - val_accuracy: 0.4693\n",
      "Epoch 77/100\n",
      "28/28 [==============================] - 0s 1ms/step - loss: 7.5533 - accuracy: 0.5103 - val_loss: 8.1855 - val_accuracy: 0.4693\n",
      "Epoch 78/100\n",
      "28/28 [==============================] - 0s 1ms/step - loss: 7.5533 - accuracy: 0.5103 - val_loss: 8.1855 - val_accuracy: 0.4693\n",
      "Epoch 79/100\n",
      "28/28 [==============================] - 0s 1ms/step - loss: 7.5533 - accuracy: 0.5103 - val_loss: 8.1855 - val_accuracy: 0.4693\n",
      "Epoch 80/100\n",
      "28/28 [==============================] - 0s 1ms/step - loss: 7.5533 - accuracy: 0.5103 - val_loss: 8.1855 - val_accuracy: 0.4693\n",
      "Epoch 81/100\n",
      "28/28 [==============================] - 0s 1ms/step - loss: 7.5533 - accuracy: 0.5103 - val_loss: 8.1855 - val_accuracy: 0.4693\n",
      "Epoch 82/100\n",
      "28/28 [==============================] - 0s 1ms/step - loss: 7.5533 - accuracy: 0.5103 - val_loss: 8.1855 - val_accuracy: 0.4693\n",
      "Epoch 83/100\n",
      "28/28 [==============================] - 0s 1ms/step - loss: 7.5533 - accuracy: 0.5103 - val_loss: 8.1855 - val_accuracy: 0.4693\n",
      "Epoch 84/100\n",
      "28/28 [==============================] - 0s 1ms/step - loss: 7.5533 - accuracy: 0.5103 - val_loss: 8.1855 - val_accuracy: 0.4693\n",
      "Epoch 85/100\n",
      "28/28 [==============================] - 0s 1ms/step - loss: 7.5533 - accuracy: 0.5103 - val_loss: 8.1855 - val_accuracy: 0.4693\n",
      "Epoch 86/100\n",
      "28/28 [==============================] - 0s 1ms/step - loss: 7.5533 - accuracy: 0.5103 - val_loss: 8.1855 - val_accuracy: 0.4693\n",
      "Epoch 87/100\n",
      "28/28 [==============================] - 0s 1ms/step - loss: 7.5533 - accuracy: 0.5103 - val_loss: 8.1855 - val_accuracy: 0.4693\n",
      "Epoch 88/100\n",
      "28/28 [==============================] - 0s 1ms/step - loss: 7.5533 - accuracy: 0.5103 - val_loss: 8.1855 - val_accuracy: 0.4693\n",
      "Epoch 89/100\n",
      "28/28 [==============================] - 0s 2ms/step - loss: 7.5533 - accuracy: 0.5103 - val_loss: 8.1855 - val_accuracy: 0.4693\n",
      "Epoch 90/100\n",
      "28/28 [==============================] - 0s 1ms/step - loss: 7.5533 - accuracy: 0.5103 - val_loss: 8.1855 - val_accuracy: 0.4693\n",
      "Epoch 91/100\n",
      "28/28 [==============================] - 0s 1ms/step - loss: 7.5533 - accuracy: 0.5103 - val_loss: 8.1855 - val_accuracy: 0.4693\n",
      "Epoch 92/100\n",
      "28/28 [==============================] - 0s 1ms/step - loss: 7.5533 - accuracy: 0.5103 - val_loss: 8.1855 - val_accuracy: 0.4693\n",
      "Epoch 93/100\n",
      "28/28 [==============================] - 0s 1ms/step - loss: 7.5533 - accuracy: 0.5103 - val_loss: 8.1855 - val_accuracy: 0.4693\n",
      "Epoch 94/100\n",
      "28/28 [==============================] - 0s 1ms/step - loss: 7.5533 - accuracy: 0.5103 - val_loss: 8.1855 - val_accuracy: 0.4693\n",
      "Epoch 95/100\n",
      "28/28 [==============================] - 0s 1ms/step - loss: 7.5533 - accuracy: 0.5103 - val_loss: 8.1855 - val_accuracy: 0.4693\n",
      "Epoch 96/100\n",
      "28/28 [==============================] - 0s 1ms/step - loss: 7.5533 - accuracy: 0.5103 - val_loss: 8.1855 - val_accuracy: 0.4693\n",
      "Epoch 97/100\n",
      "28/28 [==============================] - 0s 1ms/step - loss: 7.5533 - accuracy: 0.5103 - val_loss: 8.1855 - val_accuracy: 0.4693\n",
      "Epoch 98/100\n",
      "28/28 [==============================] - 0s 1ms/step - loss: 7.5533 - accuracy: 0.5103 - val_loss: 8.1855 - val_accuracy: 0.4693\n",
      "Epoch 99/100\n",
      "28/28 [==============================] - 0s 1ms/step - loss: 7.5533 - accuracy: 0.5103 - val_loss: 8.1855 - val_accuracy: 0.4693\n",
      "Epoch 100/100\n",
      "28/28 [==============================] - 0s 1ms/step - loss: 7.5533 - accuracy: 0.5103 - val_loss: 8.1855 - val_accuracy: 0.4693\n"
     ]
    },
    {
     "data": {
      "text/plain": [
       "<keras.callbacks.History at 0x299351450>"
      ]
     },
     "execution_count": 223,
     "metadata": {},
     "output_type": "execute_result"
    }
   ],
   "source": [
    "from tensorflow.keras.models import Sequential\n",
    "from tensorflow.keras.layers import Dense, Dropout\n",
    "from tensorflow.keras.callbacks import EarlyStopping\n",
    "from sklearn.preprocessing import StandardScaler\n",
    "from sklearn.metrics import accuracy_score\n",
    "\n",
    "# normalize the input data\n",
    "scaler = StandardScaler()\n",
    "X_train = scaler.fit_transform(X_train)\n",
    "X_test = scaler.transform(X_test)\n",
    "\n",
    "# define the neural network architecture\n",
    "model = Sequential()\n",
    "model.add(Dense(128, activation='relu', input_dim=X_train.shape[1]))\n",
    "model.add(Dropout(0.5))\n",
    "model.add(Dense(64, activation='relu'))\n",
    "model.add(Dropout(0.5))\n",
    "model.add(Dense(1, activation='relu'))\n",
    "model.add(Dropout(0.5))\n",
    "model.add(Dense(1, activation='relu'))\n",
    "model.add(Dropout(0.5))\n",
    "model.add(Dense(1, activation='relu'))\n",
    "\n",
    "# compile the model\n",
    "model.compile(loss='binary_crossentropy', optimizer='adam', metrics=['accuracy'])\n",
    "\n",
    "# train the model\n",
    "model.fit(X_train, y_train, validation_split=0.2, epochs=100, batch_size=32, validation_data=(X_test, y_test))\n",
    "\n"
   ]
  },
  {
   "cell_type": "markdown",
   "metadata": {},
   "source": [
    "a - Precision, Recall, F1-score\n",
    "\n",
    "These are three common metrics used for evaluating classification models that deal with imbalanced datasets."
   ]
  },
  {
   "cell_type": "code",
   "execution_count": 224,
   "metadata": {},
   "outputs": [
    {
     "name": "stdout",
     "output_type": "stream",
     "text": [
      "              precision    recall  f1-score   support\n",
      "\n",
      "           0       0.73      0.75      0.74       176\n",
      "           1       0.77      0.76      0.77       199\n",
      "\n",
      "    accuracy                           0.75       375\n",
      "   macro avg       0.75      0.75      0.75       375\n",
      "weighted avg       0.76      0.75      0.75       375\n",
      "\n"
     ]
    }
   ],
   "source": [
    "from sklearn.metrics import classification_report\n",
    "\n",
    "# Calculate precision, recall, and f1-score on the testing data\n",
    "report = classification_report(y_test, y_pred)\n",
    "print(report)"
   ]
  },
  {
   "cell_type": "markdown",
   "metadata": {},
   "source": [
    "b - Confusion Matrix\n",
    "\n",
    "This is a table that shows the number of true positives, false positives, true negatives, and false negatives. It can help you understand the types of errors your model is making."
   ]
  },
  {
   "cell_type": "code",
   "execution_count": 225,
   "metadata": {},
   "outputs": [
    {
     "name": "stdout",
     "output_type": "stream",
     "text": [
      "[[132  44]\n",
      " [ 48 151]]\n"
     ]
    }
   ],
   "source": [
    "from sklearn.metrics import confusion_matrix\n",
    "\n",
    "# Calculate confusion matrix on the testing data\n",
    "cm = confusion_matrix(y_test, y_pred)\n",
    "print(cm)"
   ]
  },
  {
   "cell_type": "markdown",
   "metadata": {},
   "source": [
    "c - ROC Curve and AUC\n",
    "\n",
    "These metrics are used to evaluate binary classification models and plot the trade-off between the true positive rate (TPR) and the false positive rate (FPR) at different classification thresholds. The area under the curve (AUC) is a single-number summary of the ROC curve that ranges from 0 to 1, with higher values indicating better performance."
   ]
  },
  {
   "cell_type": "code",
   "execution_count": 229,
   "metadata": {},
   "outputs": [
    {
     "name": "stderr",
     "output_type": "stream",
     "text": [
      "WARNING:absl:At this time, the v2.11+ optimizer `tf.keras.optimizers.Adam` runs slowly on M1/M2 Macs, please use the legacy Keras optimizer instead, located at `tf.keras.optimizers.legacy.Adam`.\n",
      "WARNING:absl:There is a known slowdown when using v2.11+ Keras optimizers on M1/M2 Macs. Falling back to the legacy Keras optimizer, i.e., `tf.keras.optimizers.legacy.Adam`.\n"
     ]
    },
    {
     "name": "stdout",
     "output_type": "stream",
     "text": [
      "Epoch 1/10\n",
      "28/28 [==============================] - 0s 3ms/step - loss: 0.7719 - accuracy: 0.5356 - val_loss: 0.6141 - val_accuracy: 0.7200\n",
      "Epoch 2/10\n",
      "28/28 [==============================] - 0s 1ms/step - loss: 0.6520 - accuracy: 0.6204 - val_loss: 0.5705 - val_accuracy: 0.7280\n",
      "Epoch 3/10\n",
      "28/28 [==============================] - 0s 1ms/step - loss: 0.6131 - accuracy: 0.6732 - val_loss: 0.5456 - val_accuracy: 0.7227\n",
      "Epoch 4/10\n",
      "28/28 [==============================] - 0s 1ms/step - loss: 0.6411 - accuracy: 0.6697 - val_loss: 0.5274 - val_accuracy: 0.7227\n",
      "Epoch 5/10\n",
      "28/28 [==============================] - 0s 1ms/step - loss: 0.5799 - accuracy: 0.6766 - val_loss: 0.5163 - val_accuracy: 0.7467\n",
      "Epoch 6/10\n",
      "28/28 [==============================] - 0s 1ms/step - loss: 0.5632 - accuracy: 0.7179 - val_loss: 0.5096 - val_accuracy: 0.7387\n",
      "Epoch 7/10\n",
      "28/28 [==============================] - 0s 1ms/step - loss: 0.5634 - accuracy: 0.7110 - val_loss: 0.5050 - val_accuracy: 0.7440\n",
      "Epoch 8/10\n",
      "28/28 [==============================] - 0s 1ms/step - loss: 0.5396 - accuracy: 0.7477 - val_loss: 0.5035 - val_accuracy: 0.7467\n",
      "Epoch 9/10\n",
      "28/28 [==============================] - 0s 1ms/step - loss: 0.5786 - accuracy: 0.7179 - val_loss: 0.5030 - val_accuracy: 0.7520\n",
      "Epoch 10/10\n",
      "28/28 [==============================] - 0s 1ms/step - loss: 0.5533 - accuracy: 0.7385 - val_loss: 0.5025 - val_accuracy: 0.7547\n"
     ]
    },
    {
     "data": {
      "text/plain": [
       "<keras.callbacks.History at 0x29b852380>"
      ]
     },
     "execution_count": 229,
     "metadata": {},
     "output_type": "execute_result"
    }
   ],
   "source": [
    "from tensorflow.keras.models import Sequential\n",
    "from tensorflow.keras.layers import Dense, Dropout\n",
    "from tensorflow.keras.callbacks import EarlyStopping\n",
    "from tensorflow.keras.optimizers import Adam\n",
    "from sklearn.preprocessing import StandardScaler\n",
    "from sklearn.metrics import accuracy_score\n",
    "\n",
    "# normalize the input data\n",
    "scaler = StandardScaler()\n",
    "X_train = scaler.fit_transform(X_train)\n",
    "X_test = scaler.transform(X_test)\n",
    "\n",
    "# define the neural network architecture\n",
    "model = Sequential()\n",
    "model.add(Dense(128, activation='relu', input_dim=X_train.shape[1]))\n",
    "model.add(Dropout(0.6))\n",
    "model.add(Dense(64, activation='relu'))\n",
    "model.add(Dropout(0.6))\n",
    "model.add(Dense(1, activation='sigmoid'))\n",
    "\n",
    "\n",
    "# Compile model\n",
    "opt = Adam(learning_rate=0.001)\n",
    "model.compile(optimizer=opt, loss='binary_crossentropy', metrics=['accuracy'])\n",
    "\n",
    "# Train model\n",
    "model.fit(X_train, y_train, epochs=10, batch_size=32, validation_data=(X_test, y_test))\n"
   ]
  },
  {
   "cell_type": "markdown",
   "metadata": {},
   "source": [
    "### Model Training and evaluation "
   ]
  },
  {
   "cell_type": "markdown",
   "metadata": {},
   "source": [
    "### Model tuning"
   ]
  },
  {
   "cell_type": "markdown",
   "metadata": {},
   "source": [
    "### Conclusions"
   ]
  }
 ],
 "metadata": {
  "kernelspec": {
   "display_name": "Python 3",
   "language": "python",
   "name": "python3"
  },
  "language_info": {
   "codemirror_mode": {
    "name": "ipython",
    "version": 3
   },
   "file_extension": ".py",
   "mimetype": "text/x-python",
   "name": "python",
   "nbconvert_exporter": "python",
   "pygments_lexer": "ipython3",
   "version": "3.10.10"
  },
  "orig_nbformat": 4
 },
 "nbformat": 4,
 "nbformat_minor": 2
}
